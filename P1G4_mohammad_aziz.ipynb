{
 "cells": [
  {
   "cell_type": "code",
   "execution_count": 223,
   "metadata": {},
   "outputs": [],
   "source": [
    "# !kaggle datasets download -d brllrb/uber-and-lyft-dataset-boston-ma"
   ]
  },
  {
   "cell_type": "code",
   "execution_count": 224,
   "metadata": {},
   "outputs": [],
   "source": [
    "# !unzip uber-and-lyft-dataset-boston-ma.zip"
   ]
  },
  {
   "attachments": {},
   "cell_type": "markdown",
   "metadata": {},
   "source": [
    "Grade Challenge 4\n",
    "\n",
    "- Name : Mohammad Aziz Riza\n",
    "- Batch : MSIB\n",
    "- Gambaran Dataset : Dataset yang digunakan yaitu dataset Uber and Lyft Dataset Boston, MA. Di mana dataset ini berkaitan dengan harga uber.\n",
    "- Objective : Membuat model machine learning menggunakan Linear Regresi untuk memprediksi harga"
   ]
  },
  {
   "attachments": {},
   "cell_type": "markdown",
   "metadata": {},
   "source": [
    "#  Conceptual Problems"
   ]
  },
  {
   "attachments": {},
   "cell_type": "markdown",
   "metadata": {},
   "source": [
    "## 1. Sebutkan dan jelaskan asumsi yang dipakai oleh Linear Regression!"
   ]
  },
  {
   "attachments": {},
   "cell_type": "markdown",
   "metadata": {},
   "source": [
    "1. **Asumsi Hubungan Linier (Linear Relationship):** Asumsi ini menyatakan bahwa hubungan antara variabel independen dan variabel dependen adalah linier. Artinya, perubahan dalam variabel independen akan memiliki efek yang konstan terhadap variabel dependen.\n",
    "\n",
    "2. **Asumsi Tidak Ada atau Sedikit Multikolinearitas (No or Little Multicollinearity):** Multikolinearitas terjadi ketika dua atau lebih variabel independen dalam model memiliki hubungan yang kuat antara satu sama lain. Asumsi ini menyatakan bahwa variabel independen dalam model tidak saling berkorelasi secara signifikan.\n",
    "\n",
    "3. **Asumsi Normalitas Multivariat (Multivariate Normality):** Asumsi ini mengasumsikan bahwa kesalahan dalam model regresi linear memiliki distribusi normal multivariat. Dengan kata lain, kesalahan dari setiap prediksi berdistribusi normal.\n",
    "\n",
    "4. **Asumsi Tidak Ada Autokorelasi (No Auto-Correlation):** Autokorelasi terjadi ketika kesalahan dalam model memiliki korelasi dengan dirinya sendiri dari waktu ke waktu atau dari observasi ke observasi. Asumsi ini menyatakan bahwa tidak ada pola atau struktur yang tersisa dalam kesalahan setelah model diterapkan.\n",
    "\n",
    "5. **Asumsi Homoskedastisitas (Homoscedasticity):** Homoskedastisitas berarti bahwa variansi dari kesalahan model adalah konstan di seluruh rentang nilai dari variabel independen. Artinya, tidak ada pola tertentu dalam sebaran kesalahan yang bergantung pada nilai variabel independen."
   ]
  },
  {
   "attachments": {},
   "cell_type": "markdown",
   "metadata": {},
   "source": [
    "## 2. Tunjukkan dan tafsirkan arti dari slope dan intercept yang didapat dari model yang telah Anda bangun !"
   ]
  },
  {
   "attachments": {},
   "cell_type": "markdown",
   "metadata": {},
   "source": [
    "# **Import Libraries**"
   ]
  },
  {
   "cell_type": "code",
   "execution_count": 507,
   "metadata": {},
   "outputs": [],
   "source": [
    "\n",
    "import pandas as pd\n",
    "import numpy as np\n",
    "import matplotlib.pyplot as plt \n",
    "import seaborn as sns\n",
    "from sklearn.model_selection import train_test_split\n",
    "from sklearn.preprocessing import StandardScaler\n",
    "from sklearn.preprocessing import OrdinalEncoder\n",
    "from sklearn.linear_model import LinearRegression\n",
    "\n",
    "# Evaluasi Model\n",
    "from sklearn.metrics import mean_squared_error\n",
    "\n",
    "# save model \n",
    "import pickle \n",
    "import joblib\n",
    "import json\n",
    "\n",
    "pd.set_option('display.max_columns', None) # Agar dapat melihat semua kolom tanpa terpotong "
   ]
  },
  {
   "attachments": {},
   "cell_type": "markdown",
   "metadata": {},
   "source": [
    "# **Data Loading**"
   ]
  },
  {
   "cell_type": "code",
   "execution_count": 344,
   "metadata": {},
   "outputs": [
    {
     "data": {
      "text/html": [
       "<div>\n",
       "<style scoped>\n",
       "    .dataframe tbody tr th:only-of-type {\n",
       "        vertical-align: middle;\n",
       "    }\n",
       "\n",
       "    .dataframe tbody tr th {\n",
       "        vertical-align: top;\n",
       "    }\n",
       "\n",
       "    .dataframe thead th {\n",
       "        text-align: right;\n",
       "    }\n",
       "</style>\n",
       "<table border=\"1\" class=\"dataframe\">\n",
       "  <thead>\n",
       "    <tr style=\"text-align: right;\">\n",
       "      <th></th>\n",
       "      <th>id</th>\n",
       "      <th>timestamp</th>\n",
       "      <th>hour</th>\n",
       "      <th>day</th>\n",
       "      <th>month</th>\n",
       "      <th>datetime</th>\n",
       "      <th>timezone</th>\n",
       "      <th>source</th>\n",
       "      <th>destination</th>\n",
       "      <th>cab_type</th>\n",
       "      <th>product_id</th>\n",
       "      <th>name</th>\n",
       "      <th>price</th>\n",
       "      <th>distance</th>\n",
       "      <th>surge_multiplier</th>\n",
       "      <th>latitude</th>\n",
       "      <th>longitude</th>\n",
       "      <th>temperature</th>\n",
       "      <th>apparentTemperature</th>\n",
       "      <th>short_summary</th>\n",
       "      <th>long_summary</th>\n",
       "      <th>precipIntensity</th>\n",
       "      <th>precipProbability</th>\n",
       "      <th>humidity</th>\n",
       "      <th>windSpeed</th>\n",
       "      <th>windGust</th>\n",
       "      <th>windGustTime</th>\n",
       "      <th>visibility</th>\n",
       "      <th>temperatureHigh</th>\n",
       "      <th>temperatureHighTime</th>\n",
       "      <th>temperatureLow</th>\n",
       "      <th>temperatureLowTime</th>\n",
       "      <th>apparentTemperatureHigh</th>\n",
       "      <th>apparentTemperatureHighTime</th>\n",
       "      <th>apparentTemperatureLow</th>\n",
       "      <th>apparentTemperatureLowTime</th>\n",
       "      <th>icon</th>\n",
       "      <th>dewPoint</th>\n",
       "      <th>pressure</th>\n",
       "      <th>windBearing</th>\n",
       "      <th>cloudCover</th>\n",
       "      <th>uvIndex</th>\n",
       "      <th>visibility.1</th>\n",
       "      <th>ozone</th>\n",
       "      <th>sunriseTime</th>\n",
       "      <th>sunsetTime</th>\n",
       "      <th>moonPhase</th>\n",
       "      <th>precipIntensityMax</th>\n",
       "      <th>uvIndexTime</th>\n",
       "      <th>temperatureMin</th>\n",
       "      <th>temperatureMinTime</th>\n",
       "      <th>temperatureMax</th>\n",
       "      <th>temperatureMaxTime</th>\n",
       "      <th>apparentTemperatureMin</th>\n",
       "      <th>apparentTemperatureMinTime</th>\n",
       "      <th>apparentTemperatureMax</th>\n",
       "      <th>apparentTemperatureMaxTime</th>\n",
       "    </tr>\n",
       "  </thead>\n",
       "  <tbody>\n",
       "    <tr>\n",
       "      <th>693066</th>\n",
       "      <td>616d3611-1820-450a-9845-a9ff304a4842</td>\n",
       "      <td>1.543708e+09</td>\n",
       "      <td>23</td>\n",
       "      <td>1</td>\n",
       "      <td>12</td>\n",
       "      <td>2018-12-01 23:53:05</td>\n",
       "      <td>America/New_York</td>\n",
       "      <td>West End</td>\n",
       "      <td>North End</td>\n",
       "      <td>Uber</td>\n",
       "      <td>6f72dfc5-27f1-42e8-84db-ccc7a75f6969</td>\n",
       "      <td>UberXL</td>\n",
       "      <td>13.0</td>\n",
       "      <td>1.0</td>\n",
       "      <td>1.0</td>\n",
       "      <td>42.3519</td>\n",
       "      <td>-71.0643</td>\n",
       "      <td>37.05</td>\n",
       "      <td>37.05</td>\n",
       "      <td>Partly Cloudy</td>\n",
       "      <td>Light rain in the morning and overnight.</td>\n",
       "      <td>0.0</td>\n",
       "      <td>0.0</td>\n",
       "      <td>0.74</td>\n",
       "      <td>2.34</td>\n",
       "      <td>2.87</td>\n",
       "      <td>1543672800</td>\n",
       "      <td>9.785</td>\n",
       "      <td>44.76</td>\n",
       "      <td>1543690800</td>\n",
       "      <td>34.83</td>\n",
       "      <td>1543712400</td>\n",
       "      <td>44.09</td>\n",
       "      <td>1543690800</td>\n",
       "      <td>35.48</td>\n",
       "      <td>1543712400</td>\n",
       "      <td>partly-cloudy-night</td>\n",
       "      <td>29.65</td>\n",
       "      <td>1023.57</td>\n",
       "      <td>133</td>\n",
       "      <td>0.31</td>\n",
       "      <td>0</td>\n",
       "      <td>9.785</td>\n",
       "      <td>271.5</td>\n",
       "      <td>1543665331</td>\n",
       "      <td>1543698855</td>\n",
       "      <td>0.82</td>\n",
       "      <td>0.0</td>\n",
       "      <td>1543683600</td>\n",
       "      <td>31.42</td>\n",
       "      <td>1543658400</td>\n",
       "      <td>44.76</td>\n",
       "      <td>1543690800</td>\n",
       "      <td>27.77</td>\n",
       "      <td>1543658400</td>\n",
       "      <td>44.09</td>\n",
       "      <td>1543690800</td>\n",
       "    </tr>\n",
       "    <tr>\n",
       "      <th>693067</th>\n",
       "      <td>633a3fc3-1f86-4b9e-9d48-2b7132112341</td>\n",
       "      <td>1.543708e+09</td>\n",
       "      <td>23</td>\n",
       "      <td>1</td>\n",
       "      <td>12</td>\n",
       "      <td>2018-12-01 23:53:05</td>\n",
       "      <td>America/New_York</td>\n",
       "      <td>West End</td>\n",
       "      <td>North End</td>\n",
       "      <td>Uber</td>\n",
       "      <td>55c66225-fbe7-4fd5-9072-eab1ece5e23e</td>\n",
       "      <td>UberX</td>\n",
       "      <td>9.5</td>\n",
       "      <td>1.0</td>\n",
       "      <td>1.0</td>\n",
       "      <td>42.3519</td>\n",
       "      <td>-71.0643</td>\n",
       "      <td>37.05</td>\n",
       "      <td>37.05</td>\n",
       "      <td>Partly Cloudy</td>\n",
       "      <td>Light rain in the morning and overnight.</td>\n",
       "      <td>0.0</td>\n",
       "      <td>0.0</td>\n",
       "      <td>0.74</td>\n",
       "      <td>2.34</td>\n",
       "      <td>2.87</td>\n",
       "      <td>1543672800</td>\n",
       "      <td>9.785</td>\n",
       "      <td>44.76</td>\n",
       "      <td>1543690800</td>\n",
       "      <td>34.83</td>\n",
       "      <td>1543712400</td>\n",
       "      <td>44.09</td>\n",
       "      <td>1543690800</td>\n",
       "      <td>35.48</td>\n",
       "      <td>1543712400</td>\n",
       "      <td>partly-cloudy-night</td>\n",
       "      <td>29.65</td>\n",
       "      <td>1023.57</td>\n",
       "      <td>133</td>\n",
       "      <td>0.31</td>\n",
       "      <td>0</td>\n",
       "      <td>9.785</td>\n",
       "      <td>271.5</td>\n",
       "      <td>1543665331</td>\n",
       "      <td>1543698855</td>\n",
       "      <td>0.82</td>\n",
       "      <td>0.0</td>\n",
       "      <td>1543683600</td>\n",
       "      <td>31.42</td>\n",
       "      <td>1543658400</td>\n",
       "      <td>44.76</td>\n",
       "      <td>1543690800</td>\n",
       "      <td>27.77</td>\n",
       "      <td>1543658400</td>\n",
       "      <td>44.09</td>\n",
       "      <td>1543690800</td>\n",
       "    </tr>\n",
       "    <tr>\n",
       "      <th>693068</th>\n",
       "      <td>64d451d0-639f-47a4-9b7c-6fd92fbd264f</td>\n",
       "      <td>1.543708e+09</td>\n",
       "      <td>23</td>\n",
       "      <td>1</td>\n",
       "      <td>12</td>\n",
       "      <td>2018-12-01 23:53:05</td>\n",
       "      <td>America/New_York</td>\n",
       "      <td>West End</td>\n",
       "      <td>North End</td>\n",
       "      <td>Uber</td>\n",
       "      <td>8cf7e821-f0d3-49c6-8eba-e679c0ebcf6a</td>\n",
       "      <td>Taxi</td>\n",
       "      <td>NaN</td>\n",
       "      <td>1.0</td>\n",
       "      <td>1.0</td>\n",
       "      <td>42.3519</td>\n",
       "      <td>-71.0643</td>\n",
       "      <td>37.05</td>\n",
       "      <td>37.05</td>\n",
       "      <td>Partly Cloudy</td>\n",
       "      <td>Light rain in the morning and overnight.</td>\n",
       "      <td>0.0</td>\n",
       "      <td>0.0</td>\n",
       "      <td>0.74</td>\n",
       "      <td>2.34</td>\n",
       "      <td>2.87</td>\n",
       "      <td>1543672800</td>\n",
       "      <td>9.785</td>\n",
       "      <td>44.76</td>\n",
       "      <td>1543690800</td>\n",
       "      <td>34.83</td>\n",
       "      <td>1543712400</td>\n",
       "      <td>44.09</td>\n",
       "      <td>1543690800</td>\n",
       "      <td>35.48</td>\n",
       "      <td>1543712400</td>\n",
       "      <td>partly-cloudy-night</td>\n",
       "      <td>29.65</td>\n",
       "      <td>1023.57</td>\n",
       "      <td>133</td>\n",
       "      <td>0.31</td>\n",
       "      <td>0</td>\n",
       "      <td>9.785</td>\n",
       "      <td>271.5</td>\n",
       "      <td>1543665331</td>\n",
       "      <td>1543698855</td>\n",
       "      <td>0.82</td>\n",
       "      <td>0.0</td>\n",
       "      <td>1543683600</td>\n",
       "      <td>31.42</td>\n",
       "      <td>1543658400</td>\n",
       "      <td>44.76</td>\n",
       "      <td>1543690800</td>\n",
       "      <td>27.77</td>\n",
       "      <td>1543658400</td>\n",
       "      <td>44.09</td>\n",
       "      <td>1543690800</td>\n",
       "    </tr>\n",
       "    <tr>\n",
       "      <th>693069</th>\n",
       "      <td>727e5f07-a96b-4ad1-a2c7-9abc3ad55b4e</td>\n",
       "      <td>1.543708e+09</td>\n",
       "      <td>23</td>\n",
       "      <td>1</td>\n",
       "      <td>12</td>\n",
       "      <td>2018-12-01 23:53:05</td>\n",
       "      <td>America/New_York</td>\n",
       "      <td>West End</td>\n",
       "      <td>North End</td>\n",
       "      <td>Uber</td>\n",
       "      <td>6d318bcc-22a3-4af6-bddd-b409bfce1546</td>\n",
       "      <td>Black SUV</td>\n",
       "      <td>27.0</td>\n",
       "      <td>1.0</td>\n",
       "      <td>1.0</td>\n",
       "      <td>42.3519</td>\n",
       "      <td>-71.0643</td>\n",
       "      <td>37.05</td>\n",
       "      <td>37.05</td>\n",
       "      <td>Partly Cloudy</td>\n",
       "      <td>Light rain in the morning and overnight.</td>\n",
       "      <td>0.0</td>\n",
       "      <td>0.0</td>\n",
       "      <td>0.74</td>\n",
       "      <td>2.34</td>\n",
       "      <td>2.87</td>\n",
       "      <td>1543672800</td>\n",
       "      <td>9.785</td>\n",
       "      <td>44.76</td>\n",
       "      <td>1543690800</td>\n",
       "      <td>34.83</td>\n",
       "      <td>1543712400</td>\n",
       "      <td>44.09</td>\n",
       "      <td>1543690800</td>\n",
       "      <td>35.48</td>\n",
       "      <td>1543712400</td>\n",
       "      <td>partly-cloudy-night</td>\n",
       "      <td>29.65</td>\n",
       "      <td>1023.57</td>\n",
       "      <td>133</td>\n",
       "      <td>0.31</td>\n",
       "      <td>0</td>\n",
       "      <td>9.785</td>\n",
       "      <td>271.5</td>\n",
       "      <td>1543665331</td>\n",
       "      <td>1543698855</td>\n",
       "      <td>0.82</td>\n",
       "      <td>0.0</td>\n",
       "      <td>1543683600</td>\n",
       "      <td>31.42</td>\n",
       "      <td>1543658400</td>\n",
       "      <td>44.76</td>\n",
       "      <td>1543690800</td>\n",
       "      <td>27.77</td>\n",
       "      <td>1543658400</td>\n",
       "      <td>44.09</td>\n",
       "      <td>1543690800</td>\n",
       "    </tr>\n",
       "    <tr>\n",
       "      <th>693070</th>\n",
       "      <td>e7fdc087-fe86-40a5-a3c3-3b2a8badcbda</td>\n",
       "      <td>1.543708e+09</td>\n",
       "      <td>23</td>\n",
       "      <td>1</td>\n",
       "      <td>12</td>\n",
       "      <td>2018-12-01 23:53:05</td>\n",
       "      <td>America/New_York</td>\n",
       "      <td>West End</td>\n",
       "      <td>North End</td>\n",
       "      <td>Uber</td>\n",
       "      <td>997acbb5-e102-41e1-b155-9df7de0a73f2</td>\n",
       "      <td>UberPool</td>\n",
       "      <td>10.0</td>\n",
       "      <td>1.0</td>\n",
       "      <td>1.0</td>\n",
       "      <td>42.3519</td>\n",
       "      <td>-71.0643</td>\n",
       "      <td>37.05</td>\n",
       "      <td>37.05</td>\n",
       "      <td>Partly Cloudy</td>\n",
       "      <td>Light rain in the morning and overnight.</td>\n",
       "      <td>0.0</td>\n",
       "      <td>0.0</td>\n",
       "      <td>0.74</td>\n",
       "      <td>2.34</td>\n",
       "      <td>2.87</td>\n",
       "      <td>1543672800</td>\n",
       "      <td>9.785</td>\n",
       "      <td>44.76</td>\n",
       "      <td>1543690800</td>\n",
       "      <td>34.83</td>\n",
       "      <td>1543712400</td>\n",
       "      <td>44.09</td>\n",
       "      <td>1543690800</td>\n",
       "      <td>35.48</td>\n",
       "      <td>1543712400</td>\n",
       "      <td>partly-cloudy-night</td>\n",
       "      <td>29.65</td>\n",
       "      <td>1023.57</td>\n",
       "      <td>133</td>\n",
       "      <td>0.31</td>\n",
       "      <td>0</td>\n",
       "      <td>9.785</td>\n",
       "      <td>271.5</td>\n",
       "      <td>1543665331</td>\n",
       "      <td>1543698855</td>\n",
       "      <td>0.82</td>\n",
       "      <td>0.0</td>\n",
       "      <td>1543683600</td>\n",
       "      <td>31.42</td>\n",
       "      <td>1543658400</td>\n",
       "      <td>44.76</td>\n",
       "      <td>1543690800</td>\n",
       "      <td>27.77</td>\n",
       "      <td>1543658400</td>\n",
       "      <td>44.09</td>\n",
       "      <td>1543690800</td>\n",
       "    </tr>\n",
       "  </tbody>\n",
       "</table>\n",
       "</div>"
      ],
      "text/plain": [
       "                                          id     timestamp  hour  day  month  \\\n",
       "693066  616d3611-1820-450a-9845-a9ff304a4842  1.543708e+09    23    1     12   \n",
       "693067  633a3fc3-1f86-4b9e-9d48-2b7132112341  1.543708e+09    23    1     12   \n",
       "693068  64d451d0-639f-47a4-9b7c-6fd92fbd264f  1.543708e+09    23    1     12   \n",
       "693069  727e5f07-a96b-4ad1-a2c7-9abc3ad55b4e  1.543708e+09    23    1     12   \n",
       "693070  e7fdc087-fe86-40a5-a3c3-3b2a8badcbda  1.543708e+09    23    1     12   \n",
       "\n",
       "                   datetime          timezone    source destination cab_type  \\\n",
       "693066  2018-12-01 23:53:05  America/New_York  West End   North End     Uber   \n",
       "693067  2018-12-01 23:53:05  America/New_York  West End   North End     Uber   \n",
       "693068  2018-12-01 23:53:05  America/New_York  West End   North End     Uber   \n",
       "693069  2018-12-01 23:53:05  America/New_York  West End   North End     Uber   \n",
       "693070  2018-12-01 23:53:05  America/New_York  West End   North End     Uber   \n",
       "\n",
       "                                  product_id       name  price  distance  \\\n",
       "693066  6f72dfc5-27f1-42e8-84db-ccc7a75f6969     UberXL   13.0       1.0   \n",
       "693067  55c66225-fbe7-4fd5-9072-eab1ece5e23e      UberX    9.5       1.0   \n",
       "693068  8cf7e821-f0d3-49c6-8eba-e679c0ebcf6a       Taxi    NaN       1.0   \n",
       "693069  6d318bcc-22a3-4af6-bddd-b409bfce1546  Black SUV   27.0       1.0   \n",
       "693070  997acbb5-e102-41e1-b155-9df7de0a73f2   UberPool   10.0       1.0   \n",
       "\n",
       "        surge_multiplier  latitude  longitude  temperature  \\\n",
       "693066               1.0   42.3519   -71.0643        37.05   \n",
       "693067               1.0   42.3519   -71.0643        37.05   \n",
       "693068               1.0   42.3519   -71.0643        37.05   \n",
       "693069               1.0   42.3519   -71.0643        37.05   \n",
       "693070               1.0   42.3519   -71.0643        37.05   \n",
       "\n",
       "        apparentTemperature    short_summary  \\\n",
       "693066                37.05   Partly Cloudy    \n",
       "693067                37.05   Partly Cloudy    \n",
       "693068                37.05   Partly Cloudy    \n",
       "693069                37.05   Partly Cloudy    \n",
       "693070                37.05   Partly Cloudy    \n",
       "\n",
       "                                      long_summary  precipIntensity  \\\n",
       "693066   Light rain in the morning and overnight.               0.0   \n",
       "693067   Light rain in the morning and overnight.               0.0   \n",
       "693068   Light rain in the morning and overnight.               0.0   \n",
       "693069   Light rain in the morning and overnight.               0.0   \n",
       "693070   Light rain in the morning and overnight.               0.0   \n",
       "\n",
       "        precipProbability  humidity  windSpeed  windGust  windGustTime  \\\n",
       "693066                0.0      0.74       2.34      2.87    1543672800   \n",
       "693067                0.0      0.74       2.34      2.87    1543672800   \n",
       "693068                0.0      0.74       2.34      2.87    1543672800   \n",
       "693069                0.0      0.74       2.34      2.87    1543672800   \n",
       "693070                0.0      0.74       2.34      2.87    1543672800   \n",
       "\n",
       "        visibility  temperatureHigh  temperatureHighTime  temperatureLow  \\\n",
       "693066       9.785            44.76           1543690800           34.83   \n",
       "693067       9.785            44.76           1543690800           34.83   \n",
       "693068       9.785            44.76           1543690800           34.83   \n",
       "693069       9.785            44.76           1543690800           34.83   \n",
       "693070       9.785            44.76           1543690800           34.83   \n",
       "\n",
       "        temperatureLowTime  apparentTemperatureHigh  \\\n",
       "693066          1543712400                    44.09   \n",
       "693067          1543712400                    44.09   \n",
       "693068          1543712400                    44.09   \n",
       "693069          1543712400                    44.09   \n",
       "693070          1543712400                    44.09   \n",
       "\n",
       "        apparentTemperatureHighTime  apparentTemperatureLow  \\\n",
       "693066                   1543690800                   35.48   \n",
       "693067                   1543690800                   35.48   \n",
       "693068                   1543690800                   35.48   \n",
       "693069                   1543690800                   35.48   \n",
       "693070                   1543690800                   35.48   \n",
       "\n",
       "        apparentTemperatureLowTime                   icon  dewPoint  pressure  \\\n",
       "693066                  1543712400   partly-cloudy-night      29.65   1023.57   \n",
       "693067                  1543712400   partly-cloudy-night      29.65   1023.57   \n",
       "693068                  1543712400   partly-cloudy-night      29.65   1023.57   \n",
       "693069                  1543712400   partly-cloudy-night      29.65   1023.57   \n",
       "693070                  1543712400   partly-cloudy-night      29.65   1023.57   \n",
       "\n",
       "        windBearing  cloudCover  uvIndex  visibility.1  ozone  sunriseTime  \\\n",
       "693066          133        0.31        0         9.785  271.5   1543665331   \n",
       "693067          133        0.31        0         9.785  271.5   1543665331   \n",
       "693068          133        0.31        0         9.785  271.5   1543665331   \n",
       "693069          133        0.31        0         9.785  271.5   1543665331   \n",
       "693070          133        0.31        0         9.785  271.5   1543665331   \n",
       "\n",
       "        sunsetTime  moonPhase  precipIntensityMax  uvIndexTime  \\\n",
       "693066  1543698855       0.82                 0.0   1543683600   \n",
       "693067  1543698855       0.82                 0.0   1543683600   \n",
       "693068  1543698855       0.82                 0.0   1543683600   \n",
       "693069  1543698855       0.82                 0.0   1543683600   \n",
       "693070  1543698855       0.82                 0.0   1543683600   \n",
       "\n",
       "        temperatureMin  temperatureMinTime  temperatureMax  \\\n",
       "693066           31.42          1543658400           44.76   \n",
       "693067           31.42          1543658400           44.76   \n",
       "693068           31.42          1543658400           44.76   \n",
       "693069           31.42          1543658400           44.76   \n",
       "693070           31.42          1543658400           44.76   \n",
       "\n",
       "        temperatureMaxTime  apparentTemperatureMin  \\\n",
       "693066          1543690800                   27.77   \n",
       "693067          1543690800                   27.77   \n",
       "693068          1543690800                   27.77   \n",
       "693069          1543690800                   27.77   \n",
       "693070          1543690800                   27.77   \n",
       "\n",
       "        apparentTemperatureMinTime  apparentTemperatureMax  \\\n",
       "693066                  1543658400                   44.09   \n",
       "693067                  1543658400                   44.09   \n",
       "693068                  1543658400                   44.09   \n",
       "693069                  1543658400                   44.09   \n",
       "693070                  1543658400                   44.09   \n",
       "\n",
       "        apparentTemperatureMaxTime  \n",
       "693066                  1543690800  \n",
       "693067                  1543690800  \n",
       "693068                  1543690800  \n",
       "693069                  1543690800  \n",
       "693070                  1543690800  "
      ]
     },
     "execution_count": 344,
     "metadata": {},
     "output_type": "execute_result"
    }
   ],
   "source": [
    "df = pd.read_csv(\"rideshare_kaggle.csv\")\n",
    "df.head(2)"
   ]
  },
  {
   "cell_type": "code",
   "execution_count": 227,
   "metadata": {},
   "outputs": [
    {
     "name": "stdout",
     "output_type": "stream",
     "text": [
      "Jumlah baris :  693071\n",
      "Jumlah kolom :  57\n"
     ]
    }
   ],
   "source": [
    "print(\"Jumlah baris : \",df.shape[0])\n",
    "print(\"Jumlah kolom : \",df.shape[1])"
   ]
  },
  {
   "attachments": {},
   "cell_type": "markdown",
   "metadata": {},
   "source": [
    "Data memiliki 693071 baris dan 57 kolom"
   ]
  },
  {
   "cell_type": "code",
   "execution_count": 228,
   "metadata": {},
   "outputs": [
    {
     "name": "stdout",
     "output_type": "stream",
     "text": [
      "<class 'pandas.core.frame.DataFrame'>\n",
      "RangeIndex: 693071 entries, 0 to 693070\n",
      "Data columns (total 57 columns):\n",
      " #   Column                       Non-Null Count   Dtype  \n",
      "---  ------                       --------------   -----  \n",
      " 0   id                           693071 non-null  object \n",
      " 1   timestamp                    693071 non-null  float64\n",
      " 2   hour                         693071 non-null  int64  \n",
      " 3   day                          693071 non-null  int64  \n",
      " 4   month                        693071 non-null  int64  \n",
      " 5   datetime                     693071 non-null  object \n",
      " 6   timezone                     693071 non-null  object \n",
      " 7   source                       693071 non-null  object \n",
      " 8   destination                  693071 non-null  object \n",
      " 9   cab_type                     693071 non-null  object \n",
      " 10  product_id                   693071 non-null  object \n",
      " 11  name                         693071 non-null  object \n",
      " 12  price                        637976 non-null  float64\n",
      " 13  distance                     693071 non-null  float64\n",
      " 14  surge_multiplier             693071 non-null  float64\n",
      " 15  latitude                     693071 non-null  float64\n",
      " 16  longitude                    693071 non-null  float64\n",
      " 17  temperature                  693071 non-null  float64\n",
      " 18  apparentTemperature          693071 non-null  float64\n",
      " 19  short_summary                693071 non-null  object \n",
      " 20  long_summary                 693071 non-null  object \n",
      " 21  precipIntensity              693071 non-null  float64\n",
      " 22  precipProbability            693071 non-null  float64\n",
      " 23  humidity                     693071 non-null  float64\n",
      " 24  windSpeed                    693071 non-null  float64\n",
      " 25  windGust                     693071 non-null  float64\n",
      " 26  windGustTime                 693071 non-null  int64  \n",
      " 27  visibility                   693071 non-null  float64\n",
      " 28  temperatureHigh              693071 non-null  float64\n",
      " 29  temperatureHighTime          693071 non-null  int64  \n",
      " 30  temperatureLow               693071 non-null  float64\n",
      " 31  temperatureLowTime           693071 non-null  int64  \n",
      " 32  apparentTemperatureHigh      693071 non-null  float64\n",
      " 33  apparentTemperatureHighTime  693071 non-null  int64  \n",
      " 34  apparentTemperatureLow       693071 non-null  float64\n",
      " 35  apparentTemperatureLowTime   693071 non-null  int64  \n",
      " 36  icon                         693071 non-null  object \n",
      " 37  dewPoint                     693071 non-null  float64\n",
      " 38  pressure                     693071 non-null  float64\n",
      " 39  windBearing                  693071 non-null  int64  \n",
      " 40  cloudCover                   693071 non-null  float64\n",
      " 41  uvIndex                      693071 non-null  int64  \n",
      " 42  visibility.1                 693071 non-null  float64\n",
      " 43  ozone                        693071 non-null  float64\n",
      " 44  sunriseTime                  693071 non-null  int64  \n",
      " 45  sunsetTime                   693071 non-null  int64  \n",
      " 46  moonPhase                    693071 non-null  float64\n",
      " 47  precipIntensityMax           693071 non-null  float64\n",
      " 48  uvIndexTime                  693071 non-null  int64  \n",
      " 49  temperatureMin               693071 non-null  float64\n",
      " 50  temperatureMinTime           693071 non-null  int64  \n",
      " 51  temperatureMax               693071 non-null  float64\n",
      " 52  temperatureMaxTime           693071 non-null  int64  \n",
      " 53  apparentTemperatureMin       693071 non-null  float64\n",
      " 54  apparentTemperatureMinTime   693071 non-null  int64  \n",
      " 55  apparentTemperatureMax       693071 non-null  float64\n",
      " 56  apparentTemperatureMaxTime   693071 non-null  int64  \n",
      "dtypes: float64(29), int64(17), object(11)\n",
      "memory usage: 301.4+ MB\n"
     ]
    }
   ],
   "source": [
    "df.info()"
   ]
  },
  {
   "attachments": {},
   "cell_type": "markdown",
   "metadata": {},
   "source": [
    "Kolom target yaitu price memiliki missing value yang sangat tinggi yaitu 55095. Selain itu, terdapat fitur yang memiliki tipe data tidak tepat yaitu datetime bertipe data object seharusnya datetime"
   ]
  },
  {
   "cell_type": "code",
   "execution_count": 229,
   "metadata": {},
   "outputs": [
    {
     "data": {
      "text/plain": [
       "46"
      ]
     },
     "execution_count": 229,
     "metadata": {},
     "output_type": "execute_result"
    }
   ],
   "source": [
    "len(df.select_dtypes(include=['int', 'float']).columns) # Cek jumlah fitur bertipe data integer dan float"
   ]
  },
  {
   "attachments": {},
   "cell_type": "markdown",
   "metadata": {},
   "source": [
    "Terdapat 46 fitur yang memiliki tipe data float dan integer"
   ]
  },
  {
   "cell_type": "code",
   "execution_count": 230,
   "metadata": {},
   "outputs": [
    {
     "data": {
      "text/plain": [
       "11"
      ]
     },
     "execution_count": 230,
     "metadata": {},
     "output_type": "execute_result"
    }
   ],
   "source": [
    "len(df.select_dtypes(include='object').columns) # Cek jumlah fitur bertipe data object atau string"
   ]
  },
  {
   "attachments": {},
   "cell_type": "markdown",
   "metadata": {},
   "source": [
    "Terdapat 11 fitur yang memiliki tipe data object atau string"
   ]
  },
  {
   "cell_type": "code",
   "execution_count": 231,
   "metadata": {},
   "outputs": [
    {
     "name": "stdout",
     "output_type": "stream",
     "text": [
      "55095\n"
     ]
    }
   ],
   "source": [
    "# Hitung jumlah nilai yang hilang di setiap kolom\n",
    "missing_counts_per_column = df.isna().sum()\n",
    "\n",
    "# Menjumlahkan nilai yang hilang di setiap kolom\n",
    "total_missing_values = missing_counts_per_column.sum()\n",
    "\n",
    "print(total_missing_values)"
   ]
  },
  {
   "attachments": {},
   "cell_type": "markdown",
   "metadata": {},
   "source": [
    "Terdapat 55095 missing value"
   ]
  },
  {
   "cell_type": "code",
   "execution_count": 232,
   "metadata": {},
   "outputs": [
    {
     "data": {
      "text/plain": [
       "0"
      ]
     },
     "execution_count": 232,
     "metadata": {},
     "output_type": "execute_result"
    }
   ],
   "source": [
    "df.duplicated().sum()"
   ]
  },
  {
   "attachments": {},
   "cell_type": "markdown",
   "metadata": {},
   "source": [
    "Tidak terdapat data duplikat di semua baris"
   ]
  },
  {
   "attachments": {},
   "cell_type": "markdown",
   "metadata": {},
   "source": [
    "# **Exploratory Data Analysis (EDA)**"
   ]
  },
  {
   "attachments": {},
   "cell_type": "markdown",
   "metadata": {},
   "source": [
    "<ol>\n",
    "<li>Bagaimana missing value pada price terjadi? \n",
    "<li>Pada bulan apa dataset ini diambil?\n",
    "<li>Apakah product_id dan name sama saja?\n",
    "<li>Bagaimana distribusi data di setiap fitur bertipe data integer dan float?\n",
    "<li>Apakah terdapat outlier?\n",
    "<li>Bagaimana korelasi setiap fitur terhadap fitur target(price) untuk fitur fitur numeric"
   ]
  },
  {
   "attachments": {},
   "cell_type": "markdown",
   "metadata": {},
   "source": [
    "## 1. Bagaimana missing value pada price terjadi? "
   ]
  },
  {
   "cell_type": "code",
   "execution_count": 233,
   "metadata": {},
   "outputs": [
    {
     "data": {
      "text/html": [
       "<div>\n",
       "<style scoped>\n",
       "    .dataframe tbody tr th:only-of-type {\n",
       "        vertical-align: middle;\n",
       "    }\n",
       "\n",
       "    .dataframe tbody tr th {\n",
       "        vertical-align: top;\n",
       "    }\n",
       "\n",
       "    .dataframe thead th {\n",
       "        text-align: right;\n",
       "    }\n",
       "</style>\n",
       "<table border=\"1\" class=\"dataframe\">\n",
       "  <thead>\n",
       "    <tr style=\"text-align: right;\">\n",
       "      <th></th>\n",
       "      <th>id</th>\n",
       "      <th>timestamp</th>\n",
       "      <th>hour</th>\n",
       "      <th>day</th>\n",
       "      <th>month</th>\n",
       "      <th>datetime</th>\n",
       "      <th>timezone</th>\n",
       "      <th>source</th>\n",
       "      <th>destination</th>\n",
       "      <th>cab_type</th>\n",
       "      <th>product_id</th>\n",
       "      <th>name</th>\n",
       "      <th>price</th>\n",
       "      <th>distance</th>\n",
       "      <th>surge_multiplier</th>\n",
       "      <th>latitude</th>\n",
       "      <th>longitude</th>\n",
       "      <th>temperature</th>\n",
       "      <th>apparentTemperature</th>\n",
       "      <th>short_summary</th>\n",
       "      <th>long_summary</th>\n",
       "      <th>precipIntensity</th>\n",
       "      <th>precipProbability</th>\n",
       "      <th>humidity</th>\n",
       "      <th>windSpeed</th>\n",
       "      <th>windGust</th>\n",
       "      <th>windGustTime</th>\n",
       "      <th>visibility</th>\n",
       "      <th>temperatureHigh</th>\n",
       "      <th>temperatureHighTime</th>\n",
       "      <th>temperatureLow</th>\n",
       "      <th>temperatureLowTime</th>\n",
       "      <th>apparentTemperatureHigh</th>\n",
       "      <th>apparentTemperatureHighTime</th>\n",
       "      <th>apparentTemperatureLow</th>\n",
       "      <th>apparentTemperatureLowTime</th>\n",
       "      <th>icon</th>\n",
       "      <th>dewPoint</th>\n",
       "      <th>pressure</th>\n",
       "      <th>windBearing</th>\n",
       "      <th>cloudCover</th>\n",
       "      <th>uvIndex</th>\n",
       "      <th>visibility.1</th>\n",
       "      <th>ozone</th>\n",
       "      <th>sunriseTime</th>\n",
       "      <th>sunsetTime</th>\n",
       "      <th>moonPhase</th>\n",
       "      <th>precipIntensityMax</th>\n",
       "      <th>uvIndexTime</th>\n",
       "      <th>temperatureMin</th>\n",
       "      <th>temperatureMinTime</th>\n",
       "      <th>temperatureMax</th>\n",
       "      <th>temperatureMaxTime</th>\n",
       "      <th>apparentTemperatureMin</th>\n",
       "      <th>apparentTemperatureMinTime</th>\n",
       "      <th>apparentTemperatureMax</th>\n",
       "      <th>apparentTemperatureMaxTime</th>\n",
       "    </tr>\n",
       "  </thead>\n",
       "  <tbody>\n",
       "    <tr>\n",
       "      <th>18</th>\n",
       "      <td>fa5fb705-03a0-4eb9-82d9-7fe80872f754</td>\n",
       "      <td>1.543674e+09</td>\n",
       "      <td>14</td>\n",
       "      <td>1</td>\n",
       "      <td>12</td>\n",
       "      <td>2018-12-01 14:13:04</td>\n",
       "      <td>America/New_York</td>\n",
       "      <td>North End</td>\n",
       "      <td>West End</td>\n",
       "      <td>Uber</td>\n",
       "      <td>8cf7e821-f0d3-49c6-8eba-e679c0ebcf6a</td>\n",
       "      <td>Taxi</td>\n",
       "      <td>NaN</td>\n",
       "      <td>1.11</td>\n",
       "      <td>1.0</td>\n",
       "      <td>42.3647</td>\n",
       "      <td>-71.0542</td>\n",
       "      <td>36.99</td>\n",
       "      <td>32.27</td>\n",
       "      <td>Partly Cloudy</td>\n",
       "      <td>Light rain in the morning and overnight.</td>\n",
       "      <td>0.0</td>\n",
       "      <td>0.0</td>\n",
       "      <td>0.68</td>\n",
       "      <td>5.87</td>\n",
       "      <td>6.26</td>\n",
       "      <td>1543672800</td>\n",
       "      <td>9.91</td>\n",
       "      <td>44.66</td>\n",
       "      <td>1543690800</td>\n",
       "      <td>35.04</td>\n",
       "      <td>1543712400</td>\n",
       "      <td>43.99</td>\n",
       "      <td>1543690800</td>\n",
       "      <td>35.69</td>\n",
       "      <td>1543712400</td>\n",
       "      <td>partly-cloudy-day</td>\n",
       "      <td>27.53</td>\n",
       "      <td>1022.32</td>\n",
       "      <td>344</td>\n",
       "      <td>0.44</td>\n",
       "      <td>1</td>\n",
       "      <td>9.91</td>\n",
       "      <td>280.1</td>\n",
       "      <td>1543665331</td>\n",
       "      <td>1543698851</td>\n",
       "      <td>0.82</td>\n",
       "      <td>0.0000</td>\n",
       "      <td>1543683600</td>\n",
       "      <td>31.71</td>\n",
       "      <td>1543658400</td>\n",
       "      <td>44.66</td>\n",
       "      <td>1543690800</td>\n",
       "      <td>28.06</td>\n",
       "      <td>1543658400</td>\n",
       "      <td>43.99</td>\n",
       "      <td>1543690800</td>\n",
       "    </tr>\n",
       "    <tr>\n",
       "      <th>31</th>\n",
       "      <td>eee70d94-6706-4b95-a8ce-0e34f0fa8f37</td>\n",
       "      <td>1.543795e+09</td>\n",
       "      <td>23</td>\n",
       "      <td>2</td>\n",
       "      <td>12</td>\n",
       "      <td>2018-12-02 23:52:56</td>\n",
       "      <td>America/New_York</td>\n",
       "      <td>Beacon Hill</td>\n",
       "      <td>South Station</td>\n",
       "      <td>Uber</td>\n",
       "      <td>8cf7e821-f0d3-49c6-8eba-e679c0ebcf6a</td>\n",
       "      <td>Taxi</td>\n",
       "      <td>NaN</td>\n",
       "      <td>2.48</td>\n",
       "      <td>1.0</td>\n",
       "      <td>42.3588</td>\n",
       "      <td>-71.0707</td>\n",
       "      <td>48.83</td>\n",
       "      <td>48.83</td>\n",
       "      <td>Overcast</td>\n",
       "      <td>Light rain until evening.</td>\n",
       "      <td>0.0</td>\n",
       "      <td>0.0</td>\n",
       "      <td>0.96</td>\n",
       "      <td>2.83</td>\n",
       "      <td>2.98</td>\n",
       "      <td>1543755600</td>\n",
       "      <td>7.79</td>\n",
       "      <td>50.73</td>\n",
       "      <td>1543788000</td>\n",
       "      <td>44.99</td>\n",
       "      <td>1543816800</td>\n",
       "      <td>50.06</td>\n",
       "      <td>1543788000</td>\n",
       "      <td>45.64</td>\n",
       "      <td>1543816800</td>\n",
       "      <td>cloudy</td>\n",
       "      <td>47.81</td>\n",
       "      <td>1002.81</td>\n",
       "      <td>275</td>\n",
       "      <td>1.00</td>\n",
       "      <td>0</td>\n",
       "      <td>7.79</td>\n",
       "      <td>287.3</td>\n",
       "      <td>1543751797</td>\n",
       "      <td>1543785238</td>\n",
       "      <td>0.86</td>\n",
       "      <td>0.0904</td>\n",
       "      <td>1543770000</td>\n",
       "      <td>36.45</td>\n",
       "      <td>1543726800</td>\n",
       "      <td>50.73</td>\n",
       "      <td>1543788000</td>\n",
       "      <td>35.85</td>\n",
       "      <td>1543748400</td>\n",
       "      <td>50.06</td>\n",
       "      <td>1543788000</td>\n",
       "    </tr>\n",
       "  </tbody>\n",
       "</table>\n",
       "</div>"
      ],
      "text/plain": [
       "                                      id     timestamp  hour  day  month  \\\n",
       "18  fa5fb705-03a0-4eb9-82d9-7fe80872f754  1.543674e+09    14    1     12   \n",
       "31  eee70d94-6706-4b95-a8ce-0e34f0fa8f37  1.543795e+09    23    2     12   \n",
       "\n",
       "               datetime          timezone       source    destination  \\\n",
       "18  2018-12-01 14:13:04  America/New_York    North End       West End   \n",
       "31  2018-12-02 23:52:56  America/New_York  Beacon Hill  South Station   \n",
       "\n",
       "   cab_type                            product_id  name  price  distance  \\\n",
       "18     Uber  8cf7e821-f0d3-49c6-8eba-e679c0ebcf6a  Taxi    NaN      1.11   \n",
       "31     Uber  8cf7e821-f0d3-49c6-8eba-e679c0ebcf6a  Taxi    NaN      2.48   \n",
       "\n",
       "    surge_multiplier  latitude  longitude  temperature  apparentTemperature  \\\n",
       "18               1.0   42.3647   -71.0542        36.99                32.27   \n",
       "31               1.0   42.3588   -71.0707        48.83                48.83   \n",
       "\n",
       "      short_summary                                long_summary  \\\n",
       "18   Partly Cloudy    Light rain in the morning and overnight.    \n",
       "31        Overcast                   Light rain until evening.    \n",
       "\n",
       "    precipIntensity  precipProbability  humidity  windSpeed  windGust  \\\n",
       "18              0.0                0.0      0.68       5.87      6.26   \n",
       "31              0.0                0.0      0.96       2.83      2.98   \n",
       "\n",
       "    windGustTime  visibility  temperatureHigh  temperatureHighTime  \\\n",
       "18    1543672800        9.91            44.66           1543690800   \n",
       "31    1543755600        7.79            50.73           1543788000   \n",
       "\n",
       "    temperatureLow  temperatureLowTime  apparentTemperatureHigh  \\\n",
       "18           35.04          1543712400                    43.99   \n",
       "31           44.99          1543816800                    50.06   \n",
       "\n",
       "    apparentTemperatureHighTime  apparentTemperatureLow  \\\n",
       "18                   1543690800                   35.69   \n",
       "31                   1543788000                   45.64   \n",
       "\n",
       "    apparentTemperatureLowTime                 icon  dewPoint  pressure  \\\n",
       "18                  1543712400   partly-cloudy-day      27.53   1022.32   \n",
       "31                  1543816800              cloudy      47.81   1002.81   \n",
       "\n",
       "    windBearing  cloudCover  uvIndex  visibility.1  ozone  sunriseTime  \\\n",
       "18          344        0.44        1          9.91  280.1   1543665331   \n",
       "31          275        1.00        0          7.79  287.3   1543751797   \n",
       "\n",
       "    sunsetTime  moonPhase  precipIntensityMax  uvIndexTime  temperatureMin  \\\n",
       "18  1543698851       0.82              0.0000   1543683600           31.71   \n",
       "31  1543785238       0.86              0.0904   1543770000           36.45   \n",
       "\n",
       "    temperatureMinTime  temperatureMax  temperatureMaxTime  \\\n",
       "18          1543658400           44.66          1543690800   \n",
       "31          1543726800           50.73          1543788000   \n",
       "\n",
       "    apparentTemperatureMin  apparentTemperatureMinTime  \\\n",
       "18                   28.06                  1543658400   \n",
       "31                   35.85                  1543748400   \n",
       "\n",
       "    apparentTemperatureMax  apparentTemperatureMaxTime  \n",
       "18                   43.99                  1543690800  \n",
       "31                   50.06                  1543788000  "
      ]
     },
     "execution_count": 233,
     "metadata": {},
     "output_type": "execute_result"
    }
   ],
   "source": [
    "price_nan = df[df['price'].isna()]\n",
    "price_nan.head(2)"
   ]
  },
  {
   "cell_type": "code",
   "execution_count": 234,
   "metadata": {},
   "outputs": [
    {
     "data": {
      "text/plain": [
       "array(['America/New_York'], dtype=object)"
      ]
     },
     "execution_count": 234,
     "metadata": {},
     "output_type": "execute_result"
    }
   ],
   "source": [
    "df['timezone'].unique() # Cek unique value pada fitur \"timezone\" di data original"
   ]
  },
  {
   "attachments": {},
   "cell_type": "markdown",
   "metadata": {},
   "source": [
    "Untuk timezone hanya America/New_York"
   ]
  },
  {
   "cell_type": "code",
   "execution_count": 235,
   "metadata": {},
   "outputs": [
    {
     "data": {
      "text/plain": [
       "array(['Lyft', 'Uber'], dtype=object)"
      ]
     },
     "execution_count": 235,
     "metadata": {},
     "output_type": "execute_result"
    }
   ],
   "source": [
    "df['cab_type'].unique() # Cek unique value pada fitur \"cab_type\" di data original"
   ]
  },
  {
   "cell_type": "code",
   "execution_count": 236,
   "metadata": {},
   "outputs": [
    {
     "data": {
      "text/plain": [
       "array(['Uber'], dtype=object)"
      ]
     },
     "execution_count": 236,
     "metadata": {},
     "output_type": "execute_result"
    }
   ],
   "source": [
    "price_nan['cab_type'].unique() # Cek unique value pada fitur \"cab_type\" di data yang memiliki missing value pada fitur \"price\""
   ]
  },
  {
   "attachments": {},
   "cell_type": "markdown",
   "metadata": {},
   "source": [
    "Hanya yang bertipe Uber yang memiliki missing value pada fitur \"price\""
   ]
  },
  {
   "cell_type": "code",
   "execution_count": 237,
   "metadata": {},
   "outputs": [
    {
     "data": {
      "text/plain": [
       "array(['Shared', 'Lux', 'Lyft', 'Lux Black XL', 'Lyft XL', 'Lux Black',\n",
       "       'UberXL', 'Black', 'UberX', 'WAV', 'Black SUV', 'UberPool', 'Taxi'],\n",
       "      dtype=object)"
      ]
     },
     "execution_count": 237,
     "metadata": {},
     "output_type": "execute_result"
    }
   ],
   "source": [
    "df['name'].unique() # Cek unique value pada fitur \"name\" di data original"
   ]
  },
  {
   "cell_type": "code",
   "execution_count": 238,
   "metadata": {},
   "outputs": [
    {
     "data": {
      "text/plain": [
       "array(['Taxi'], dtype=object)"
      ]
     },
     "execution_count": 238,
     "metadata": {},
     "output_type": "execute_result"
    }
   ],
   "source": [
    "price_nan['name'].unique() # Cek unique value pada fitur \"name\" di data yang memiliki missing value pada fitur \"price\""
   ]
  },
  {
   "attachments": {},
   "cell_type": "markdown",
   "metadata": {},
   "source": [
    "Hanya yang bertipe Taxi yang memiliki missing value pada fitur \"price\""
   ]
  },
  {
   "attachments": {},
   "cell_type": "markdown",
   "metadata": {},
   "source": [
    "Dapat disimpulkan bahwa yang tipe \"cab_type\" nya Uber dan \"name\" nya Taxi memiliki missing value di fitur \"price\". Selanjutnya akan dilakukan pengecekan, apakah jika data memiliki tipe \"cab_type\" nya Uber dan \"name\" nya Taxi pasti missing value di fitur \"price\" nya atau tidak"
   ]
  },
  {
   "cell_type": "code",
   "execution_count": 239,
   "metadata": {},
   "outputs": [
    {
     "data": {
      "text/html": [
       "<div>\n",
       "<style scoped>\n",
       "    .dataframe tbody tr th:only-of-type {\n",
       "        vertical-align: middle;\n",
       "    }\n",
       "\n",
       "    .dataframe tbody tr th {\n",
       "        vertical-align: top;\n",
       "    }\n",
       "\n",
       "    .dataframe thead th {\n",
       "        text-align: right;\n",
       "    }\n",
       "</style>\n",
       "<table border=\"1\" class=\"dataframe\">\n",
       "  <thead>\n",
       "    <tr style=\"text-align: right;\">\n",
       "      <th></th>\n",
       "      <th>id</th>\n",
       "      <th>timestamp</th>\n",
       "      <th>hour</th>\n",
       "      <th>day</th>\n",
       "      <th>month</th>\n",
       "      <th>datetime</th>\n",
       "      <th>timezone</th>\n",
       "      <th>source</th>\n",
       "      <th>destination</th>\n",
       "      <th>cab_type</th>\n",
       "      <th>product_id</th>\n",
       "      <th>name</th>\n",
       "      <th>price</th>\n",
       "      <th>distance</th>\n",
       "      <th>surge_multiplier</th>\n",
       "      <th>latitude</th>\n",
       "      <th>longitude</th>\n",
       "      <th>temperature</th>\n",
       "      <th>apparentTemperature</th>\n",
       "      <th>short_summary</th>\n",
       "      <th>long_summary</th>\n",
       "      <th>precipIntensity</th>\n",
       "      <th>precipProbability</th>\n",
       "      <th>humidity</th>\n",
       "      <th>windSpeed</th>\n",
       "      <th>windGust</th>\n",
       "      <th>windGustTime</th>\n",
       "      <th>visibility</th>\n",
       "      <th>temperatureHigh</th>\n",
       "      <th>temperatureHighTime</th>\n",
       "      <th>temperatureLow</th>\n",
       "      <th>temperatureLowTime</th>\n",
       "      <th>apparentTemperatureHigh</th>\n",
       "      <th>apparentTemperatureHighTime</th>\n",
       "      <th>apparentTemperatureLow</th>\n",
       "      <th>apparentTemperatureLowTime</th>\n",
       "      <th>icon</th>\n",
       "      <th>dewPoint</th>\n",
       "      <th>pressure</th>\n",
       "      <th>windBearing</th>\n",
       "      <th>cloudCover</th>\n",
       "      <th>uvIndex</th>\n",
       "      <th>visibility.1</th>\n",
       "      <th>ozone</th>\n",
       "      <th>sunriseTime</th>\n",
       "      <th>sunsetTime</th>\n",
       "      <th>moonPhase</th>\n",
       "      <th>precipIntensityMax</th>\n",
       "      <th>uvIndexTime</th>\n",
       "      <th>temperatureMin</th>\n",
       "      <th>temperatureMinTime</th>\n",
       "      <th>temperatureMax</th>\n",
       "      <th>temperatureMaxTime</th>\n",
       "      <th>apparentTemperatureMin</th>\n",
       "      <th>apparentTemperatureMinTime</th>\n",
       "      <th>apparentTemperatureMax</th>\n",
       "      <th>apparentTemperatureMaxTime</th>\n",
       "    </tr>\n",
       "  </thead>\n",
       "  <tbody>\n",
       "  </tbody>\n",
       "</table>\n",
       "</div>"
      ],
      "text/plain": [
       "Empty DataFrame\n",
       "Columns: [id, timestamp, hour, day, month, datetime, timezone, source, destination, cab_type, product_id, name, price, distance, surge_multiplier, latitude, longitude, temperature, apparentTemperature, short_summary, long_summary, precipIntensity, precipProbability, humidity, windSpeed, windGust, windGustTime, visibility, temperatureHigh, temperatureHighTime, temperatureLow, temperatureLowTime, apparentTemperatureHigh, apparentTemperatureHighTime, apparentTemperatureLow, apparentTemperatureLowTime, icon, dewPoint, pressure, windBearing, cloudCover, uvIndex, visibility.1, ozone, sunriseTime, sunsetTime, moonPhase, precipIntensityMax, uvIndexTime, temperatureMin, temperatureMinTime, temperatureMax, temperatureMaxTime, apparentTemperatureMin, apparentTemperatureMinTime, apparentTemperatureMax, apparentTemperatureMaxTime]\n",
       "Index: []"
      ]
     },
     "execution_count": 239,
     "metadata": {},
     "output_type": "execute_result"
    }
   ],
   "source": [
    "filter_data = df[(df['cab_type'] == \"Uber\") & (df['name'] == \"Taxi\")] # Filter data yang memiliki value di cab_type nya Uber dan value di name nya Taxi\n",
    "filter_data[filter_data['price'].notna()] # Melihat data yang value di fitur price nya tidak missing"
   ]
  },
  {
   "cell_type": "code",
   "execution_count": 240,
   "metadata": {},
   "outputs": [
    {
     "data": {
      "text/plain": [
       "55095"
      ]
     },
     "execution_count": 240,
     "metadata": {},
     "output_type": "execute_result"
    }
   ],
   "source": [
    "len(filter_data) # Melihat jumlah data pada hasil filter"
   ]
  },
  {
   "cell_type": "code",
   "execution_count": 241,
   "metadata": {},
   "outputs": [
    {
     "data": {
      "text/plain": [
       "55095"
      ]
     },
     "execution_count": 241,
     "metadata": {},
     "output_type": "execute_result"
    }
   ],
   "source": [
    "df['price'].isna().sum() # Melihat jumlah missing value pada fitur \"price\""
   ]
  },
  {
   "attachments": {},
   "cell_type": "markdown",
   "metadata": {},
   "source": [
    "Dari data di atas, kita dapat menyimpulkan, jika nilai pada kolom \"cab_type\" adalah \"Uber\" dan nilai pada kolom \"name\" adalah \"Taxi\", semuanya **PASTI** memiliki nilai NaN atau missing value pada fitur \"price\". Sehingga setiap baris atau row yang memiliki missing value pada price perlu dilakukan drop."
   ]
  },
  {
   "attachments": {},
   "cell_type": "markdown",
   "metadata": {},
   "source": [
    "## 2. Pada bulan apa dataset ini diambil?"
   ]
  },
  {
   "cell_type": "code",
   "execution_count": 242,
   "metadata": {},
   "outputs": [
    {
     "data": {
      "text/plain": [
       "month\n",
       "12    406614\n",
       "11    286457\n",
       "Name: count, dtype: int64"
      ]
     },
     "execution_count": 242,
     "metadata": {},
     "output_type": "execute_result"
    }
   ],
   "source": [
    "df.month.value_counts()"
   ]
  },
  {
   "attachments": {},
   "cell_type": "markdown",
   "metadata": {},
   "source": [
    "Dataset ini diambil pada bulan 11(November) dan 12(Desember). Sehingga memiliki kemungkinan untuk fitur fitur yang berkaitan dengan cuaca tidak memiliki perbedaan yang signifikan atau memiliki distribusi yang terbilang normal."
   ]
  },
  {
   "attachments": {},
   "cell_type": "markdown",
   "metadata": {},
   "source": [
    "## 3. Apakah product_id dan name sama saja?"
   ]
  },
  {
   "cell_type": "code",
   "execution_count": 338,
   "metadata": {},
   "outputs": [
    {
     "data": {
      "text/plain": [
       "product_id\n",
       "6f72dfc5-27f1-42e8-84db-ccc7a75f6969    55096\n",
       "9a0e7b09-b92b-4c41-9779-2ad22b4d779d    55096\n",
       "6d318bcc-22a3-4af6-bddd-b409bfce1546    55096\n",
       "6c84fd89-3f11-4782-9b50-97c468b19529    55095\n",
       "8cf7e821-f0d3-49c6-8eba-e679c0ebcf6a    55095\n",
       "55c66225-fbe7-4fd5-9072-eab1ece5e23e    55094\n",
       "997acbb5-e102-41e1-b155-9df7de0a73f2    55091\n",
       "lyft_premier                            51235\n",
       "lyft                                    51235\n",
       "lyft_luxsuv                             51235\n",
       "lyft_plus                               51235\n",
       "lyft_lux                                51235\n",
       "lyft_line                               51233\n",
       "Name: count, dtype: int64"
      ]
     },
     "execution_count": 338,
     "metadata": {},
     "output_type": "execute_result"
    }
   ],
   "source": [
    "df['product_id'].value_counts()"
   ]
  },
  {
   "cell_type": "code",
   "execution_count": 339,
   "metadata": {},
   "outputs": [
    {
     "data": {
      "text/plain": [
       "name\n",
       "UberXL          55096\n",
       "WAV             55096\n",
       "Black SUV       55096\n",
       "Black           55095\n",
       "Taxi            55095\n",
       "UberX           55094\n",
       "UberPool        55091\n",
       "Lux             51235\n",
       "Lyft            51235\n",
       "Lux Black XL    51235\n",
       "Lyft XL         51235\n",
       "Lux Black       51235\n",
       "Shared          51233\n",
       "Name: count, dtype: int64"
      ]
     },
     "execution_count": 339,
     "metadata": {},
     "output_type": "execute_result"
    }
   ],
   "source": [
    "df['name'].value_counts()"
   ]
  },
  {
   "attachments": {},
   "cell_type": "markdown",
   "metadata": {},
   "source": [
    "Dari hasil di atas didapatkan bahwa fitur product_id dan name itu sama saja atau dengan kata lain name merupakan product dengan id tiap kategori yaitu product id, sehingga fitur product_id dapat diabaikan atau di drop"
   ]
  },
  {
   "attachments": {},
   "cell_type": "markdown",
   "metadata": {},
   "source": [
    "## 4. Bagaimana distribusi data di setiap fitur bertipe data integer dan float?"
   ]
  },
  {
   "attachments": {},
   "cell_type": "markdown",
   "metadata": {},
   "source": [
    "### Numeric"
   ]
  },
  {
   "cell_type": "code",
   "execution_count": 243,
   "metadata": {},
   "outputs": [],
   "source": [
    "fitur_number = df.select_dtypes(include=['int', 'float']).columns # Mengambil fitur fitur yang bertipe data integer dan float\n",
    "\n",
    "highly_skewed = []\n",
    "moderately_skewed = []\n",
    "normal_skewed = []\n",
    "\n",
    "# Perulangan untuk mengecek skewnes masing masing fitur \n",
    "for i in df[fitur_number].columns : \n",
    "    nilai_skew = df[i].skew() # Hitung skewness\n",
    "    if nilai_skew < -1 or nilai_skew > 1 : # Jika skewnessnya lebih besar dari 1 atau lebih kecil -1\n",
    "        highly_skewed.append(i)\n",
    "    elif (nilai_skew >= -1 and nilai_skew <= -0.5) or (nilai_skew <= 1 and nilai_skew >= 0.5) :  # Jika skewnessnya di antara -1 dan -0.5 atau di antara 1 dan 0.5\n",
    "        moderately_skewed.append(i)\n",
    "    else : # Jika skewnessnya tidak memenuhi dua kondisi di atas\n",
    "        normal_skewed.append(i)"
   ]
  },
  {
   "cell_type": "code",
   "execution_count": 244,
   "metadata": {},
   "outputs": [
    {
     "name": "stdout",
     "output_type": "stream",
     "text": [
      "price, surge_multiplier, latitude, precipIntensity, precipProbability, windGust, visibility, uvIndex, visibility.1, apparentTemperatureMin, "
     ]
    }
   ],
   "source": [
    "for i in highly_skewed :\n",
    "    print(i, end=\", \")"
   ]
  },
  {
   "attachments": {},
   "cell_type": "markdown",
   "metadata": {},
   "source": [
    "Terdapat 10 fitur yang memiliki nilai nilai ekstrim, salah satunya fitur price"
   ]
  },
  {
   "cell_type": "code",
   "execution_count": 245,
   "metadata": {},
   "outputs": [
    {
     "name": "stderr",
     "output_type": "stream",
     "text": [
      "C:\\Users\\Administrator\\AppData\\Local\\Temp\\ipykernel_9940\\3770462599.py:7: UserWarning: \n",
      "\n",
      "`distplot` is a deprecated function and will be removed in seaborn v0.14.0.\n",
      "\n",
      "Please adapt your code to use either `displot` (a figure-level function with\n",
      "similar flexibility) or `histplot` (an axes-level function for histograms).\n",
      "\n",
      "For a guide to updating your code to use the new functions, please see\n",
      "https://gist.github.com/mwaskom/de44147ed2974457ad6372750bbe5751\n",
      "\n",
      "  sns.distplot(df['price'], ax=axes)\n"
     ]
    },
    {
     "data": {
      "image/png": "[encoded data removed]",
      "text/plain": [
       "<Figure size 800x600 with 1 Axes>"
      ]
     },
     "metadata": {},
     "output_type": "display_data"
    }
   ],
   "source": [
    "import seaborn as sns\n",
    "import matplotlib.pyplot as plt\n",
    "\n",
    "fig, axes = plt.subplots(figsize=(8, 6))\n",
    "\n",
    "# Plot distribusi dari kolom \"price\"\n",
    "sns.distplot(df['price'], ax=axes)\n",
    "    \n",
    "axes.set_title('Distribusi dari Price', fontsize=15, loc='center')\n",
    "axes.set_xlabel('Price', fontsize=13)\n",
    "plt.tick_params(axis='x', which='major', labelsize=12)\n",
    "axes.yaxis.tick_left()  # where the y axis marks will be\n",
    "    \n",
    "# Tambahkan teks untuk skewness dan kurtosis\n",
    "axes.text(x=0.97, y=0.97, transform=axes.transAxes,\n",
    "            s=\"Skewness: %f\" % df['price'].skew(), fontweight='demibold', fontsize=10,\n",
    "            verticalalignment='top', horizontalalignment='right', backgroundcolor='white', color='xkcd:poo brown')\n",
    "\n",
    "plt.tight_layout()\n",
    "plt.show()\n"
   ]
  },
  {
   "attachments": {},
   "cell_type": "markdown",
   "metadata": {},
   "source": [
    "Contoh visualisasi dari price terlihat memiliki skewness 1.05 sehingga cenderung memiliki ekor yang lebih panjang di sisi kanan"
   ]
  },
  {
   "cell_type": "code",
   "execution_count": 246,
   "metadata": {},
   "outputs": [
    {
     "name": "stdout",
     "output_type": "stream",
     "text": [
      "distance, temperature, apparentTemperatureLow, windBearing, cloudCover, precipIntensityMax, temperatureMin, apparentTemperatureMax, "
     ]
    }
   ],
   "source": [
    "for i in moderately_skewed :\n",
    "    print(i, end=\", \")"
   ]
  },
  {
   "cell_type": "code",
   "execution_count": 247,
   "metadata": {},
   "outputs": [
    {
     "name": "stderr",
     "output_type": "stream",
     "text": [
      "C:\\Users\\Administrator\\AppData\\Local\\Temp\\ipykernel_9940\\3158327451.py:7: UserWarning: \n",
      "\n",
      "`distplot` is a deprecated function and will be removed in seaborn v0.14.0.\n",
      "\n",
      "Please adapt your code to use either `displot` (a figure-level function with\n",
      "similar flexibility) or `histplot` (an axes-level function for histograms).\n",
      "\n",
      "For a guide to updating your code to use the new functions, please see\n",
      "https://gist.github.com/mwaskom/de44147ed2974457ad6372750bbe5751\n",
      "\n",
      "  sns.distplot(df['distance'], ax=axes)\n"
     ]
    },
    {
     "data": {
      "image/png": "[encoded data removed]",
      "text/plain": [
       "<Figure size 800x600 with 1 Axes>"
      ]
     },
     "metadata": {},
     "output_type": "display_data"
    }
   ],
   "source": [
    "import seaborn as sns\n",
    "import matplotlib.pyplot as plt\n",
    "\n",
    "fig, axes = plt.subplots(figsize=(8, 6))\n",
    "\n",
    "# Plot distribusi dari kolom \"distance\"\n",
    "sns.distplot(df['distance'], ax=axes)\n",
    "    \n",
    "axes.set_title('Distribusi dari Distance', fontsize=15, loc='center')\n",
    "axes.set_xlabel('Distance', fontsize=13)\n",
    "plt.tick_params(axis='x', which='major', labelsize=12)\n",
    "axes.yaxis.tick_left()  # where the y axis marks will be\n",
    "    \n",
    "# Tambahkan teks untuk skewness dan kurtosis\n",
    "axes.text(x=0.97, y=0.97, transform=axes.transAxes,\n",
    "            s=\"Skewness: %f\" % df['distance'].skew(), fontweight='demibold', fontsize=10,\n",
    "            verticalalignment='top', horizontalalignment='right', backgroundcolor='white', color='xkcd:poo brown')\n",
    "\n",
    "plt.tight_layout()\n",
    "plt.show()\n"
   ]
  },
  {
   "attachments": {},
   "cell_type": "markdown",
   "metadata": {},
   "source": [
    "Untuk fitur distance pun memiliki skewness 0.83 sehingga cenderung memiliki ekor yang lebih panjang di sisi kanan"
   ]
  },
  {
   "attachments": {},
   "cell_type": "markdown",
   "metadata": {},
   "source": [
    "Terdapat 8 fitur yang memiliki moderately_skewed "
   ]
  },
  {
   "cell_type": "code",
   "execution_count": 248,
   "metadata": {},
   "outputs": [
    {
     "name": "stdout",
     "output_type": "stream",
     "text": [
      "timestamp, hour, day, month, longitude, apparentTemperature, humidity, windSpeed, windGustTime, temperatureHigh, temperatureHighTime, temperatureLow, temperatureLowTime, apparentTemperatureHigh, apparentTemperatureHighTime, apparentTemperatureLowTime, dewPoint, pressure, ozone, sunriseTime, sunsetTime, moonPhase, uvIndexTime, temperatureMinTime, temperatureMax, temperatureMaxTime, apparentTemperatureMinTime, apparentTemperatureMaxTime, "
     ]
    }
   ],
   "source": [
    "for i in normal_skewed :\n",
    "    print(i, end=\", \")"
   ]
  },
  {
   "cell_type": "code",
   "execution_count": 249,
   "metadata": {},
   "outputs": [
    {
     "data": {
      "text/plain": [
       "28"
      ]
     },
     "execution_count": 249,
     "metadata": {},
     "output_type": "execute_result"
    }
   ],
   "source": [
    "len(normal_skewed)"
   ]
  },
  {
   "attachments": {},
   "cell_type": "markdown",
   "metadata": {},
   "source": [
    "Terdapat 28 fitur yang memiliki distribusi normal, di mana fitur fitur nya itu berkaitan dengan cuaca dan satuan waktu kondisi lingkungan. Ini dikatakan wajar karna hanya mengambil 2 bulan terakhir yaitu bulan 11 dan 12"
   ]
  },
  {
   "cell_type": "code",
   "execution_count": 250,
   "metadata": {},
   "outputs": [
    {
     "name": "stderr",
     "output_type": "stream",
     "text": [
      "C:\\Users\\Administrator\\AppData\\Local\\Temp\\ipykernel_9940\\1220481709.py:7: UserWarning: \n",
      "\n",
      "`distplot` is a deprecated function and will be removed in seaborn v0.14.0.\n",
      "\n",
      "Please adapt your code to use either `displot` (a figure-level function with\n",
      "similar flexibility) or `histplot` (an axes-level function for histograms).\n",
      "\n",
      "For a guide to updating your code to use the new functions, please see\n",
      "https://gist.github.com/mwaskom/de44147ed2974457ad6372750bbe5751\n",
      "\n",
      "  sns.distplot(df['pressure'], ax=axes)\n"
     ]
    },
    {
     "data": {
      "image/png": "[encoded data removed]",
      "text/plain": [
       "<Figure size 800x600 with 1 Axes>"
      ]
     },
     "metadata": {},
     "output_type": "display_data"
    }
   ],
   "source": [
    "import seaborn as sns\n",
    "import matplotlib.pyplot as plt\n",
    "\n",
    "fig, axes = plt.subplots(figsize=(8, 6))\n",
    "\n",
    "# Plot distribusi dari kolom \"pressure\"\n",
    "sns.distplot(df['pressure'], ax=axes)\n",
    "    \n",
    "axes.set_title('Distribusi dari Pressure', fontsize=15, loc='center')\n",
    "axes.set_xlabel('Pressure', fontsize=13)\n",
    "plt.tick_params(axis='x', which='major', labelsize=12)\n",
    "axes.yaxis.tick_left()  # where the y axis marks will be\n",
    "    \n",
    "# Tambahkan teks untuk skewness dan kurtosis\n",
    "axes.text(x=0.97, y=0.97, transform=axes.transAxes,\n",
    "            s=\"Skewness: %f\" % df['pressure'].skew(), fontweight='demibold', fontsize=10,\n",
    "            verticalalignment='top', horizontalalignment='right', backgroundcolor='white', color='xkcd:poo brown')\n",
    "\n",
    "plt.tight_layout()\n",
    "plt.show()\n"
   ]
  },
  {
   "cell_type": "code",
   "execution_count": 251,
   "metadata": {},
   "outputs": [
    {
     "data": {
      "text/plain": [
       "1010.0947664524991"
      ]
     },
     "metadata": {},
     "output_type": "display_data"
    },
    {
     "data": {
      "text/plain": [
       "1009.25"
      ]
     },
     "metadata": {},
     "output_type": "display_data"
    },
    {
     "data": {
      "text/plain": [
       "0    996.21\n",
       "Name: pressure, dtype: float64"
      ]
     },
     "metadata": {},
     "output_type": "display_data"
    }
   ],
   "source": [
    "display(df['pressure'].mean())\n",
    "display(df['pressure'].median())\n",
    "display(df['pressure'].mode())"
   ]
  },
  {
   "attachments": {},
   "cell_type": "markdown",
   "metadata": {},
   "source": [
    "Untuk fitur Pressure memiliki skewness 0.15 sehingga kurang lebih simetris dengan nilai median, mean dan modus hampir sama"
   ]
  },
  {
   "attachments": {},
   "cell_type": "markdown",
   "metadata": {},
   "source": [
    "### Object / String"
   ]
  },
  {
   "cell_type": "code",
   "execution_count": 252,
   "metadata": {},
   "outputs": [
    {
     "data": {
      "text/plain": [
       "['id',\n",
       " 'datetime',\n",
       " 'timezone',\n",
       " 'source',\n",
       " 'destination',\n",
       " 'cab_type',\n",
       " 'product_id',\n",
       " 'name',\n",
       " 'short_summary',\n",
       " 'long_summary',\n",
       " 'icon']"
      ]
     },
     "execution_count": 252,
     "metadata": {},
     "output_type": "execute_result"
    }
   ],
   "source": [
    "fitur_object = list(df.select_dtypes(include='object').columns)\n",
    "fitur_object"
   ]
  },
  {
   "attachments": {},
   "cell_type": "markdown",
   "metadata": {},
   "source": [
    "Melihat distribusi dengan value_count masing masing fitur selain id dan datetime karna tidak termasuk kategori. Fitur timezone pun tidak dilihat distribusinya karena hanya satu nilai unik nya yaitu Amerika"
   ]
  },
  {
   "cell_type": "code",
   "execution_count": 253,
   "metadata": {},
   "outputs": [
    {
     "name": "stdout",
     "output_type": "stream",
     "text": [
      "Jumlah kategori unik dalam kolom source :\n"
     ]
    },
    {
     "data": {
      "text/plain": [
       "source\n",
       "Financial District         58857\n",
       "Theatre District           57813\n",
       "Back Bay                   57792\n",
       "Boston University          57764\n",
       "North End                  57763\n",
       "Fenway                     57757\n",
       "Northeastern University    57756\n",
       "South Station              57750\n",
       "Haymarket Square           57736\n",
       "West End                   57562\n",
       "Beacon Hill                57403\n",
       "North Station              57118\n",
       "Name: count, dtype: int64"
      ]
     },
     "metadata": {},
     "output_type": "display_data"
    },
    {
     "name": "stdout",
     "output_type": "stream",
     "text": [
      "----------\n",
      "Jumlah kategori unik dalam kolom destination :\n"
     ]
    },
    {
     "data": {
      "text/plain": [
       "destination\n",
       "Financial District         58851\n",
       "Theatre District           57798\n",
       "Back Bay                   57780\n",
       "Haymarket Square           57764\n",
       "Boston University          57764\n",
       "Fenway                     57757\n",
       "North End                  57756\n",
       "Northeastern University    57755\n",
       "South Station              57749\n",
       "West End                   57575\n",
       "Beacon Hill                57403\n",
       "North Station              57119\n",
       "Name: count, dtype: int64"
      ]
     },
     "metadata": {},
     "output_type": "display_data"
    },
    {
     "name": "stdout",
     "output_type": "stream",
     "text": [
      "----------\n",
      "Jumlah kategori unik dalam kolom cab_type :\n"
     ]
    },
    {
     "data": {
      "text/plain": [
       "cab_type\n",
       "Uber    385663\n",
       "Lyft    307408\n",
       "Name: count, dtype: int64"
      ]
     },
     "metadata": {},
     "output_type": "display_data"
    },
    {
     "name": "stdout",
     "output_type": "stream",
     "text": [
      "----------\n",
      "Jumlah kategori unik dalam kolom product_id :\n"
     ]
    },
    {
     "data": {
      "text/plain": [
       "product_id\n",
       "6f72dfc5-27f1-42e8-84db-ccc7a75f6969    55096\n",
       "9a0e7b09-b92b-4c41-9779-2ad22b4d779d    55096\n",
       "6d318bcc-22a3-4af6-bddd-b409bfce1546    55096\n",
       "6c84fd89-3f11-4782-9b50-97c468b19529    55095\n",
       "8cf7e821-f0d3-49c6-8eba-e679c0ebcf6a    55095\n",
       "55c66225-fbe7-4fd5-9072-eab1ece5e23e    55094\n",
       "997acbb5-e102-41e1-b155-9df7de0a73f2    55091\n",
       "lyft_premier                            51235\n",
       "lyft                                    51235\n",
       "lyft_luxsuv                             51235\n",
       "lyft_plus                               51235\n",
       "lyft_lux                                51235\n",
       "lyft_line                               51233\n",
       "Name: count, dtype: int64"
      ]
     },
     "metadata": {},
     "output_type": "display_data"
    },
    {
     "name": "stdout",
     "output_type": "stream",
     "text": [
      "----------\n",
      "Jumlah kategori unik dalam kolom name :\n"
     ]
    },
    {
     "data": {
      "text/plain": [
       "name\n",
       "UberXL          55096\n",
       "WAV             55096\n",
       "Black SUV       55096\n",
       "Black           55095\n",
       "Taxi            55095\n",
       "UberX           55094\n",
       "UberPool        55091\n",
       "Lux             51235\n",
       "Lyft            51235\n",
       "Lux Black XL    51235\n",
       "Lyft XL         51235\n",
       "Lux Black       51235\n",
       "Shared          51233\n",
       "Name: count, dtype: int64"
      ]
     },
     "metadata": {},
     "output_type": "display_data"
    },
    {
     "name": "stdout",
     "output_type": "stream",
     "text": [
      "----------\n",
      "Jumlah kategori unik dalam kolom short_summary :\n"
     ]
    },
    {
     "data": {
      "text/plain": [
       "short_summary\n",
       " Overcast             218895\n",
       " Mostly Cloudy        146210\n",
       " Partly Cloudy        127224\n",
       " Clear                 87126\n",
       " Light Rain            54912\n",
       " Rain                  23712\n",
       " Possible Drizzle      18636\n",
       " Foggy                  9060\n",
       " Drizzle                7296\n",
       "Name: count, dtype: int64"
      ]
     },
     "metadata": {},
     "output_type": "display_data"
    },
    {
     "name": "stdout",
     "output_type": "stream",
     "text": [
      "----------\n",
      "Jumlah kategori unik dalam kolom long_summary :\n"
     ]
    },
    {
     "data": {
      "text/plain": [
       "long_summary\n",
       " Mostly cloudy throughout the day.                      202340\n",
       " Partly cloudy throughout the day.                      145279\n",
       " Light rain in the morning.                             102485\n",
       " Rain throughout the day.                                54288\n",
       " Light rain in the morning and overnight.                50544\n",
       " Rain until morning, starting again in the evening.      47931\n",
       " Foggy in the morning.                                   44772\n",
       " Light rain until evening.                               35568\n",
       " Overcast throughout the day.                             7488\n",
       " Possible drizzle in the morning.                         1872\n",
       " Rain in the morning and afternoon.                        504\n",
       "Name: count, dtype: int64"
      ]
     },
     "metadata": {},
     "output_type": "display_data"
    },
    {
     "name": "stdout",
     "output_type": "stream",
     "text": [
      "----------\n",
      "Jumlah kategori unik dalam kolom icon :\n"
     ]
    },
    {
     "data": {
      "text/plain": [
       "icon\n",
       " cloudy                  218895\n",
       " partly-cloudy-night     158030\n",
       " partly-cloudy-day       115404\n",
       " rain                    104556\n",
       " clear-night              60294\n",
       " clear-day                26832\n",
       " fog                       9060\n",
       "Name: count, dtype: int64"
      ]
     },
     "metadata": {},
     "output_type": "display_data"
    },
    {
     "name": "stdout",
     "output_type": "stream",
     "text": [
      "----------\n"
     ]
    }
   ],
   "source": [
    "filter_fitur_object = fitur_object[3:] # Hanya mengambil index setelah 2\n",
    "\n",
    "for col in filter_fitur_object:\n",
    "    print(f\"Jumlah kategori unik dalam kolom {col} :\")\n",
    "    display(df[col].value_counts())\n",
    "    print(\"-\"*10)"
   ]
  },
  {
   "attachments": {},
   "cell_type": "markdown",
   "metadata": {},
   "source": [
    "- Antar nilai di fitur source, destination, cab_type, product_id, name tidak berbeda jauh \n",
    "- Antar nilai di fitur short_summary, long_summary, icon memiliki perbedaan nilai yang cukup tinggi"
   ]
  },
  {
   "cell_type": "code",
   "execution_count": 254,
   "metadata": {},
   "outputs": [
    {
     "data": {
      "image/png": "[encoded data removed]",
      "text/plain": [
       "<Figure size 1000x600 with 1 Axes>"
      ]
     },
     "metadata": {},
     "output_type": "display_data"
    }
   ],
   "source": [
    "# Hitung jumlah kemunculan setiap nilai dalam kolom \"source\"\n",
    "source_counts = df['source'].value_counts()\n",
    "\n",
    "# Buat bar plot\n",
    "plt.figure(figsize=(10, 6))\n",
    "source_counts.plot(kind='bar')\n",
    "plt.title('Jumlah Kemunculan untuk Setiap Nilai dalam Kolom \"source\"')\n",
    "plt.xlabel('Source')\n",
    "plt.ylabel('Jumlah Kemunculan')\n",
    "plt.xticks(rotation=45)  # Putar label sumbu x agar mudah dibaca\n",
    "plt.grid(axis='y')  # Tambahkan grid pada sumbu y\n",
    "plt.show()\n"
   ]
  },
  {
   "attachments": {},
   "cell_type": "markdown",
   "metadata": {},
   "source": [
    "Pada contoh visualisasi pada fitur source dengan barplot menunjukkan nilai yang hampir sama pada setiap kategori "
   ]
  },
  {
   "attachments": {},
   "cell_type": "markdown",
   "metadata": {},
   "source": [
    "## 5. Apakah Terdapat outlier?"
   ]
  },
  {
   "attachments": {},
   "cell_type": "markdown",
   "metadata": {},
   "source": [
    "### Perhitungan"
   ]
  },
  {
   "cell_type": "code",
   "execution_count": 255,
   "metadata": {},
   "outputs": [
    {
     "name": "stdout",
     "output_type": "stream",
     "text": [
      "1119372\n"
     ]
    }
   ],
   "source": [
    "jumlah = 0\n",
    "\n",
    "# menggabungkan fitur yang highly_skewed dan moderately_skewed\n",
    "combined_data = highly_skewed + moderately_skewed\n",
    "\n",
    "for col in combined_data:\n",
    "    data = list(df[col])\n",
    "\n",
    "    # Hitung kuartil ke-25 dan ke-75\n",
    "    Q1 = np.percentile(data, 25)\n",
    "    Q3 = np.percentile(data, 75)\n",
    "\n",
    "    # Hitung Rentang Interkuartil (IQR)\n",
    "    IQR = Q3 - Q1\n",
    "    \n",
    "    # Hitung batas atas dan batas bawah untuk outlier\n",
    "    upper_boundary = Q3 + (IQR * 1.5)\n",
    "    lower_boundary = Q1 - (IQR * 1.5)\n",
    "\n",
    "    # Identifikasi outlier dalam data\n",
    "    outliers = [x for x in data if x > upper_boundary or x < lower_boundary]\n",
    "    jumlah += len(outliers)\n",
    "    \n",
    "print(jumlah)\n",
    "    "
   ]
  },
  {
   "attachments": {},
   "cell_type": "markdown",
   "metadata": {},
   "source": [
    "Terdapat banyak sekali outlier pada fitur fitur yang tidak memiliki distribusi normal yaitu sebanyak 1119372"
   ]
  },
  {
   "attachments": {},
   "cell_type": "markdown",
   "metadata": {},
   "source": [
    "### Visual dengan boxplot"
   ]
  },
  {
   "cell_type": "code",
   "execution_count": 256,
   "metadata": {},
   "outputs": [
    {
     "data": {
      "image/png": "[encoded data removed]",
      "text/plain": [
       "<Figure size 1500x1500 with 1 Axes>"
      ]
     },
     "metadata": {},
     "output_type": "display_data"
    }
   ],
   "source": [
    "# Membuat boxplot\n",
    "plt.figure(figsize=(15, 15))\n",
    "df.boxplot(column=list(combined_data))\n",
    "plt.title('Boxplot untuk Kolom-kolom dari combined_data')\n",
    "plt.xlabel('Kolom')\n",
    "plt.ylabel('Nilai')\n",
    "plt.xticks(rotation=90)\n",
    "plt.show()"
   ]
  },
  {
   "attachments": {},
   "cell_type": "markdown",
   "metadata": {},
   "source": [
    "Dengan menggunakan boxplot pun terlihat banyak sekali data yang outlier sehingga perlu dilakukan handling"
   ]
  },
  {
   "attachments": {},
   "cell_type": "markdown",
   "metadata": {},
   "source": [
    "## 6. Bagaimana korelasi setiap fitur terhadap fitur target(price) untuk fitur fitur numeric"
   ]
  },
  {
   "attachments": {},
   "cell_type": "markdown",
   "metadata": {},
   "source": [
    "### Fitur Skew(Tidak berdistribusi normal)"
   ]
  },
  {
   "cell_type": "code",
   "execution_count": 474,
   "metadata": {},
   "outputs": [
    {
     "data": {
      "image/png": "[encoded data removed]",
      "text/plain": [
       "<Figure size 600x400 with 2 Axes>"
      ]
     },
     "metadata": {},
     "output_type": "display_data"
    }
   ],
   "source": [
    "fitur_tidak_normal = []\n",
    "combined_skew_fitur = highly_skewed+moderately_skewed # fitur yang tidak normal\n",
    "\n",
    "# Ambil hanya yang bertipe numeric\n",
    "for col in combined_skew_fitur:\n",
    "    if (df[col].dtypes == \"float64\") | (df[col].dtypes == \"int64\"): \n",
    "        fitur_tidak_normal.append(col)\n",
    "\n",
    "# Menghitung korelasi menggunakan metode Spearman karena memiliki distribusi yang tidak normal\n",
    "corr_spearman = df[fitur_tidak_normal].corr(method='spearman')\n",
    "\n",
    "# Filter korelasi yang memiliki nilai >= 0.04 atau <= -0.04 dengan fitur \"price\"\n",
    "significant_corr_price = corr_spearman[((corr_spearman['price'] >= 0.04) | (corr_spearman['price'] <= -0.04)) & (corr_spearman.index != 'price')]\n",
    "\n",
    "# Memilih kolom \"price\" dan kolom-kolom yang memiliki korelasi signifikan dengan \"price\"\n",
    "significant_columns = significant_corr_price.index.tolist() + ['price']\n",
    "df_significant_corr = df[significant_columns]\n",
    "\n",
    "# Membuat heatmap dengan korelasi yang difilter\n",
    "plt.figure(figsize=(6, 4))\n",
    "sns.heatmap(df_significant_corr.corr(method='spearman'), annot=True, cmap='coolwarm', fmt=\".2f\")\n",
    "plt.title(\"Spearman Korelasi Heatmap dengan |Korelasi| >= 0.04\")\n",
    "plt.show()"
   ]
  },
  {
   "attachments": {},
   "cell_type": "markdown",
   "metadata": {},
   "source": [
    "Terdapat 2 fitur yang memiliki nilai korelasi >= 0.04 atau <= -0.04 dengan fitur \"price\". Sehingga dapat dilakukan drop pada bagian Feature Selection untuk fitur yang tidak berkorelasi"
   ]
  },
  {
   "cell_type": "code",
   "execution_count": 475,
   "metadata": {},
   "outputs": [
    {
     "data": {
      "image/png": "[encoded data removed]",
      "text/plain": [
       "<Figure size 500x300 with 2 Axes>"
      ]
     },
     "metadata": {},
     "output_type": "display_data"
    }
   ],
   "source": [
    "fitur_normal = []\n",
    "\n",
    "# Ambil hanya yang bertipe numeric\n",
    "for col in normal_skewed:\n",
    "    if (df[col].dtypes == \"float64\") | (df[col].dtypes == \"int64\"): \n",
    "        fitur_normal.append(col)\n",
    "\n",
    "fitur_normal.append(\"price\")\n",
    "# Menghitung korelasi menggunakan metode Pearson karena memiliki distribusi yang tidak normal\n",
    "corr_pearson = df[fitur_normal].corr(method='pearson')\n",
    "\n",
    "# Filter korelasi yang memiliki nilai >= 0.04 atau <= -0.04 dengan fitur \"price\"\n",
    "significant_corr_price = corr_pearson[((corr_pearson['price'] >= 0.04) | (corr_pearson['price'] <= -0.04)) & (corr_pearson.index != 'price')]\n",
    "\n",
    "# Memilih kolom \"price\" dan kolom-kolom yang memiliki korelasi signifikan dengan \"price\"\n",
    "significant_columns = significant_corr_price.index.tolist() + ['price']\n",
    "df_significant_corr = df[significant_columns]\n",
    "\n",
    "# Membuat heatmap dengan korelasi yang difilter\n",
    "plt.figure(figsize=(5, 3))\n",
    "sns.heatmap(df_significant_corr.corr(method='pearson'), annot=True, cmap='coolwarm', fmt=\".2f\")\n",
    "plt.title(\"Pearson Korelasi Heatmap dengan |Korelasi| >= 0.04\")\n",
    "plt.show()"
   ]
  },
  {
   "attachments": {},
   "cell_type": "markdown",
   "metadata": {},
   "source": [
    "Dengan diberi batasan nilai absolut 0.4 tidak ada 1 fitur pun yang berkorelasi dengan price. Sehingga dapat dilakukan drop pada bagian Feature Selection untuk fitur yang tidak berkorelasi"
   ]
  },
  {
   "attachments": {},
   "cell_type": "markdown",
   "metadata": {},
   "source": [
    "# **Feature Engineering**"
   ]
  },
  {
   "attachments": {},
   "cell_type": "markdown",
   "metadata": {},
   "source": [
    "## Split Train Test"
   ]
  },
  {
   "cell_type": "code",
   "execution_count": 331,
   "metadata": {},
   "outputs": [],
   "source": [
    "X = df.drop('price',axis=1)\n",
    "y = df['price']"
   ]
  },
  {
   "cell_type": "code",
   "execution_count": 332,
   "metadata": {},
   "outputs": [],
   "source": [
    "X_train,X_test,y_train,y_test =train_test_split(X,y,test_size=0.2,random_state=200)"
   ]
  },
  {
   "cell_type": "code",
   "execution_count": 333,
   "metadata": {},
   "outputs": [
    {
     "name": "stdout",
     "output_type": "stream",
     "text": [
      "Jumlah data train : 554456\n",
      "Jumlah data test : 138615\n"
     ]
    }
   ],
   "source": [
    "print(\"Jumlah data train :\",X_train.shape[0])\n",
    "print(\"Jumlah data test :\",X_test.shape[0])"
   ]
  },
  {
   "attachments": {},
   "cell_type": "markdown",
   "metadata": {},
   "source": [
    "## Feature Transformation"
   ]
  },
  {
   "attachments": {},
   "cell_type": "markdown",
   "metadata": {},
   "source": [
    "### Missing Value Handling"
   ]
  },
  {
   "attachments": {},
   "cell_type": "markdown",
   "metadata": {},
   "source": [
    "Seperti yang sudah diketahui di EDA bahwa fitur yang memiliki missing value yaitu price dan akan dilakukan drop"
   ]
  },
  {
   "cell_type": "code",
   "execution_count": 288,
   "metadata": {},
   "outputs": [],
   "source": [
    "y_train_missing_drop = y_train.dropna()\n",
    "y_test_missing_drop = y_test.dropna()"
   ]
  },
  {
   "cell_type": "code",
   "execution_count": 289,
   "metadata": {},
   "outputs": [
    {
     "name": "stdout",
     "output_type": "stream",
     "text": [
      "Jumlah data train : 510291\n",
      "Jumlah data test : 127685\n"
     ]
    }
   ],
   "source": [
    "print(\"Jumlah data train :\",y_train_missing_drop.shape[0])\n",
    "print(\"Jumlah data test :\",y_test_missing_drop.shape[0])"
   ]
  },
  {
   "attachments": {},
   "cell_type": "markdown",
   "metadata": {},
   "source": [
    "Karena dropna pada fitur target sehingga ada perbedaan dengan fitur predictor, sehingga perlu disesuaikan indexnya"
   ]
  },
  {
   "cell_type": "code",
   "execution_count": 290,
   "metadata": {},
   "outputs": [],
   "source": [
    "X_train_missing_drop = X_train.loc[y_train_missing_drop.index]\n",
    "X_test_missing_drop = X_test.loc[y_test_missing_drop.index]"
   ]
  },
  {
   "cell_type": "code",
   "execution_count": 291,
   "metadata": {},
   "outputs": [
    {
     "name": "stdout",
     "output_type": "stream",
     "text": [
      "Jumlah data train : 510291\n",
      "Jumlah data test : 127685\n"
     ]
    }
   ],
   "source": [
    "print(\"Jumlah data train :\",X_train_missing_drop.shape[0])\n",
    "print(\"Jumlah data test :\",X_test_missing_drop.shape[0])"
   ]
  },
  {
   "cell_type": "code",
   "execution_count": 292,
   "metadata": {},
   "outputs": [
    {
     "name": "stdout",
     "output_type": "stream",
     "text": [
      "Jumlah data train : 510291\n",
      "Jumlah data test : 127685\n"
     ]
    }
   ],
   "source": [
    "print(\"Jumlah data train :\",y_train_missing_drop.shape[0])\n",
    "print(\"Jumlah data test :\",y_test_missing_drop.shape[0])"
   ]
  },
  {
   "attachments": {},
   "cell_type": "markdown",
   "metadata": {},
   "source": [
    "Jumlah data setelah Handling Missing Value menjadi 510291 pada train dan 127685 pada test"
   ]
  },
  {
   "attachments": {},
   "cell_type": "markdown",
   "metadata": {},
   "source": [
    "### Outlier Handling"
   ]
  },
  {
   "attachments": {},
   "cell_type": "markdown",
   "metadata": {},
   "source": [
    "Karna akan menggunakan Linear Regression di mana model ini sensitive terhadap outliers maka untuk outlier akan dilakukan drop"
   ]
  },
  {
   "cell_type": "code",
   "execution_count": 312,
   "metadata": {},
   "outputs": [],
   "source": [
    "# menggabungkan fitur yang highly_skewed dan moderately_skewed\n",
    "outliers_column = highly_skewed + moderately_skewed\n",
    "outliers_column.remove(\"price\")\n",
    "\n",
    "outliers_index_train_list = []\n",
    "outliers_index_test_list = []\n",
    "\n",
    "for col in outliers_column:\n",
    "    data_train = X_train_missing_drop[col]\n",
    "    data_test = X_test_missing_drop[col]\n",
    "    \n",
    "    # Hitung kuartil ke-25 dan ke-75\n",
    "    Q1 = np.percentile(data_train, 25) # Mencari Q1 pada data train\n",
    "    Q3 = np.percentile(data_train, 75) # Mencari Q3 pada data train\n",
    "\n",
    "    # Hitung Rentang Interkuartil (IQR)\n",
    "    IQR = Q3 - Q1\n",
    "    \n",
    "    # Hitung batas atas dan batas bawah untuk outlier\n",
    "    upper_boundary = Q3 + (IQR * 1.5)\n",
    "    lower_boundary = Q1 - (IQR * 1.5)\n",
    "\n",
    "    # Identifikasi outlier dalam data train dan test\n",
    "    outliers_index_train = data_train[(data_train > upper_boundary) | (data_train < lower_boundary)].index\n",
    "    outliers_index_test = data_test[(data_test > upper_boundary) | (data_test < lower_boundary)].index\n",
    "    \n",
    "    # Menambahkan setiap indeks ke dalam list menggunakan append\n",
    "    for idx in outliers_index_train:\n",
    "        outliers_index_train_list.append(idx)\n",
    "    \n",
    "    # Menambahkan setiap indeks ke dalam list menggunakan append\n",
    "    for idx in outliers_index_test:\n",
    "        outliers_index_test_list.append(idx)"
   ]
  },
  {
   "cell_type": "code",
   "execution_count": 325,
   "metadata": {},
   "outputs": [],
   "source": [
    "index_train = pd.DataFrame({\"outlier\" : outliers_index_train_list})\n",
    "index_test = pd.DataFrame({\"outlier\" : outliers_index_test_list})"
   ]
  },
  {
   "cell_type": "code",
   "execution_count": 326,
   "metadata": {},
   "outputs": [
    {
     "data": {
      "text/plain": [
       "332255"
      ]
     },
     "execution_count": 326,
     "metadata": {},
     "output_type": "execute_result"
    }
   ],
   "source": [
    "# Lakukan drop duplicated dari index outlier train, dikarenakan perhitungan sebelumnya memiliki kemungkinan duplikat\n",
    "index_train.drop_duplicates(inplace=True) \n",
    "len(index_train)"
   ]
  },
  {
   "cell_type": "code",
   "execution_count": 327,
   "metadata": {},
   "outputs": [
    {
     "data": {
      "text/plain": [
       "83066"
      ]
     },
     "execution_count": 327,
     "metadata": {},
     "output_type": "execute_result"
    }
   ],
   "source": [
    "# Lakukan drop duplicated dari index outlier test, dikarenakan perhitungan sebelumnya memiliki kemungkinan duplikat\n",
    "index_test.drop_duplicates(inplace=True)\n",
    "len(index_test)"
   ]
  },
  {
   "cell_type": "code",
   "execution_count": 328,
   "metadata": {},
   "outputs": [],
   "source": [
    "# Drop baris yang mengandung outlier pada data train dan test\n",
    "X_train_HO = X_train_missing_drop.drop(index=list(index_train['outlier']))\n",
    "X_test_HO = X_test_missing_drop.drop(index=list(index_test['outlier']))"
   ]
  },
  {
   "cell_type": "code",
   "execution_count": 461,
   "metadata": {},
   "outputs": [],
   "source": [
    "# Menyamakan indeks pada data y dengan data X yang sudah di drop outlier\n",
    "y_train_HO = y_train_missing_drop.loc[X_train_HO.index]\n",
    "y_test_HO = y_test_missing_drop.loc[X_test_HO.index]"
   ]
  },
  {
   "cell_type": "code",
   "execution_count": 330,
   "metadata": {},
   "outputs": [
    {
     "name": "stdout",
     "output_type": "stream",
     "text": [
      "178036\n",
      "44619\n"
     ]
    }
   ],
   "source": [
    "print(len(X_train_HO))\n",
    "print(len(X_test_HO))"
   ]
  },
  {
   "attachments": {},
   "cell_type": "markdown",
   "metadata": {},
   "source": [
    "Setelah Outlier Handling dengan Trimming data menjadi 178036 pada data train dan 44619 pada data test"
   ]
  },
  {
   "attachments": {},
   "cell_type": "markdown",
   "metadata": {},
   "source": [
    "## Scalling"
   ]
  },
  {
   "attachments": {},
   "cell_type": "markdown",
   "metadata": {},
   "source": [
    "Scalling dilakukan pada fitur \"distance\" dan \"surge_multiplier\" yang memiliki korelasi cukup baik dengan fitur target(price). Akan digunakan metode StandardScaler karna outlier sudah di Trim"
   ]
  },
  {
   "cell_type": "code",
   "execution_count": 445,
   "metadata": {},
   "outputs": [],
   "source": [
    "## With Median Imputation and Without 0/1 Imputation\n",
    "scaler = StandardScaler()\n",
    "X_train_scale = scaler.fit_transform(X_train_HO[[\"distance\",\"surge_multiplier\"]])\n",
    "X_test_scale = scaler.transform(X_test_HO[[\"distance\",\"surge_multiplier\"]])"
   ]
  },
  {
   "cell_type": "code",
   "execution_count": 446,
   "metadata": {},
   "outputs": [],
   "source": [
    "# Mengonversi hasil penskalaan menjadi DataFrame\n",
    "X_train_scaled_df = pd.DataFrame(X_train_scale, columns=[\"distance_scaled\", \"surge_multiplier_scaled\"], index=X_train_HO.index)\n",
    "X_test_scaled_df = pd.DataFrame(X_test_scale, columns=[\"distance_scaled\", \"surge_multiplier_scaled\"], index=X_test_HO.index)"
   ]
  },
  {
   "cell_type": "code",
   "execution_count": 429,
   "metadata": {},
   "outputs": [
    {
     "data": {
      "text/html": [
       "<div>\n",
       "<style scoped>\n",
       "    .dataframe tbody tr th:only-of-type {\n",
       "        vertical-align: middle;\n",
       "    }\n",
       "\n",
       "    .dataframe tbody tr th {\n",
       "        vertical-align: top;\n",
       "    }\n",
       "\n",
       "    .dataframe thead th {\n",
       "        text-align: right;\n",
       "    }\n",
       "</style>\n",
       "<table border=\"1\" class=\"dataframe\">\n",
       "  <thead>\n",
       "    <tr style=\"text-align: right;\">\n",
       "      <th></th>\n",
       "      <th>distance_scaled</th>\n",
       "      <th>surge_multiplier_scaled</th>\n",
       "    </tr>\n",
       "  </thead>\n",
       "  <tbody>\n",
       "    <tr>\n",
       "      <th>339466</th>\n",
       "      <td>-0.502691</td>\n",
       "      <td>0.0</td>\n",
       "    </tr>\n",
       "  </tbody>\n",
       "</table>\n",
       "</div>"
      ],
      "text/plain": [
       "        distance_scaled  surge_multiplier_scaled\n",
       "339466        -0.502691                      0.0"
      ]
     },
     "execution_count": 429,
     "metadata": {},
     "output_type": "execute_result"
    }
   ],
   "source": [
    "X_train_scaled_df.head(1)"
   ]
  },
  {
   "attachments": {},
   "cell_type": "markdown",
   "metadata": {},
   "source": [
    "## Encoding"
   ]
  },
  {
   "cell_type": "code",
   "execution_count": 434,
   "metadata": {},
   "outputs": [
    {
     "name": "stdout",
     "output_type": "stream",
     "text": [
      "Number of categories in the variable source     :  12\n",
      "Number of categories in the variable destination     :  12\n",
      "Number of categories in the variable cab_type     :  2\n",
      "Number of categories in the variable product_id     :  12\n",
      "Number of categories in the variable name     :  12\n",
      "Number of categories in the variable short_summary     :  4\n",
      "Number of categories in the variable long_summary     :  8\n",
      "Number of categories in the variable icon     :  5\n"
     ]
    }
   ],
   "source": [
    "for col in filter_fitur_object :\n",
    "    print(f'Number of categories in the variable {col}     : ',format(len(X_train_HO[col].unique())))"
   ]
  },
  {
   "attachments": {},
   "cell_type": "markdown",
   "metadata": {},
   "source": [
    "Beberapa dari fitur bersifat nominal namun adapun yang ordinal seperti cab_type dan name. Jika menggunakan One Hot Endoding untuk nominal akan menyebabkan data memiliki dimensi yang tinggi, sehingga akan menggunakan "
   ]
  },
  {
   "cell_type": "code",
   "execution_count": 447,
   "metadata": {},
   "outputs": [],
   "source": [
    "# Inisialisasi objek OrdinalEncoder\n",
    "ordinal_encoder = OrdinalEncoder()\n",
    "\n",
    "X_train_enc = ordinal_encoder.fit_transform(X_train_HO[filter_fitur_object])\n",
    "X_test_enc = ordinal_encoder.transform(X_test_HO[filter_fitur_object])"
   ]
  },
  {
   "cell_type": "code",
   "execution_count": 487,
   "metadata": {},
   "outputs": [],
   "source": [
    "column_cat = ['source_enc','destination_enc','cab_type_enc','product_id_enc','name_enc','short_summary_enc','long_summary_enc','icon_enc']\n",
    "\n",
    "# Mengonversi hasil penskalaan menjadi DataFrame\n",
    "X_train_enc_df = pd.DataFrame(X_train_enc, columns=column_cat, index=X_train_HO.index)\n",
    "X_test_enc_df = pd.DataFrame(X_test_enc, columns=column_cat, index=X_test_HO.index)"
   ]
  },
  {
   "cell_type": "code",
   "execution_count": 449,
   "metadata": {},
   "outputs": [],
   "source": [
    "# Menggabungkan kedua DataFrames secara berdampingan\n",
    "X_train_final = pd.concat([X_train_scaled_df, X_train_enc_df], axis=1)\n",
    "X_test_final = pd.concat([X_test_scaled_df, X_test_enc_df], axis=1)"
   ]
  },
  {
   "attachments": {},
   "cell_type": "markdown",
   "metadata": {},
   "source": [
    "## Feature Selection"
   ]
  },
  {
   "attachments": {},
   "cell_type": "markdown",
   "metadata": {},
   "source": [
    "Untuk data numeric sudah dilakukan cek korelasi pada tahap EDA, di mana hasilnya yang berkorelasi >= 0.1 yaitu distance dan surge_multiplier. Selanjutnya akan cek korelasi untuk data kategori menggunakan Kendal terhadap price"
   ]
  },
  {
   "cell_type": "code",
   "execution_count": 468,
   "metadata": {},
   "outputs": [
    {
     "name": "stdout",
     "output_type": "stream",
     "text": [
      "Fitur source_enc\n",
      "Kendall's tau: -0.01, p-value: 0.0007647198283805577\n",
      "----------\n",
      "Fitur destination_enc\n",
      "Kendall's tau: -0.03, p-value: 2.4289757816138425e-79\n",
      "----------\n",
      "Fitur cab_type_enc\n",
      "Kendall's tau: -0.04, p-value: 3.0446774324727372e-80\n",
      "----------\n",
      "Fitur product_id_enc\n",
      "Kendall's tau: 0.03, p-value: 2.4342629583607024e-93\n",
      "----------\n",
      "Fitur name_enc\n",
      "Kendall's tau: -0.39, p-value: 0.0\n",
      "----------\n",
      "Fitur short_summary_enc\n",
      "Kendall's tau: 0.00, p-value: 0.12502224108347618\n",
      "----------\n",
      "Fitur long_summary_enc\n",
      "Kendall's tau: 0.00, p-value: 0.9108201883753494\n",
      "----------\n",
      "Fitur icon_enc\n",
      "Kendall's tau: 0.00, p-value: 0.028708193782376955\n",
      "----------\n"
     ]
    }
   ],
   "source": [
    "from scipy.stats import kendalltau\n",
    "\n",
    "for col in column_cat:\n",
    "    # Menghitung korelasi Kendall antara kolom prediktor dengan 'price'\n",
    "    corr_tau, pval = kendalltau(X_train_final[col], y_train_HO)\n",
    "\n",
    "    print(f\"Fitur {col}\")\n",
    "    print(f\"Kendall's tau: {corr_tau:.2f}, p-value: {pval}\")\n",
    "    print(\"-\"*10)"
   ]
  },
  {
   "cell_type": "code",
   "execution_count": 500,
   "metadata": {},
   "outputs": [
    {
     "data": {
      "image/png": "[encoded data removed]",
      "text/plain": [
       "<Figure size 600x400 with 2 Axes>"
      ]
     },
     "metadata": {},
     "output_type": "display_data"
    }
   ],
   "source": [
    "tes = pd.concat([X_train_final, y_train_HO], axis=1)\n",
    "column = column_cat\n",
    "column.append('price')\n",
    "\n",
    "# Menghitung korelasi menggunakan metode kendall karena memiliki distribusi yang tidak normal\n",
    "corr_kendall = tes[column].corr(method='kendall')\n",
    "\n",
    "# Filter korelasi yang memiliki nilai >= 0.03 atau <= -0.03 dengan fitur \"price\"\n",
    "significant_corr_price = corr_kendall[((corr_kendall['price'] > 0.03) | (corr_kendall['price'] < -0.03)) & (corr_kendall.index != 'price')]\n",
    "\n",
    "# Memilih kolom \"price\" dan kolom-kolom yang memiliki korelasi signifikan dengan \"price\"\n",
    "significant_columns = significant_corr_price.index.tolist() + ['price']\n",
    "tes_significant_corr = tes[significant_columns]\n",
    "\n",
    "# Membuat heatmap dengan korelasi yang difilter\n",
    "plt.figure(figsize=(6, 4))\n",
    "sns.heatmap(tes_significant_corr.corr(method='kendall'), annot=True, cmap='coolwarm', fmt=\".2f\")\n",
    "plt.title(\"kendall Korelasi Heatmap dengan |Korelasi| >= 0.03\")\n",
    "plt.show()"
   ]
  },
  {
   "attachments": {},
   "cell_type": "markdown",
   "metadata": {},
   "source": [
    "Terdapat 4 fitur yang berkorelasi dengan price, di mana akan dilakukan drop untuk yang tidak memiliki korelasi termasuk product_id_enc"
   ]
  },
  {
   "attachments": {},
   "cell_type": "markdown",
   "metadata": {},
   "source": [
    "Fitur yang terpilih yaitu distance, surge_multiplier, destination_enc, cab_type_enc, dan name_enc"
   ]
  },
  {
   "cell_type": "code",
   "execution_count": 505,
   "metadata": {},
   "outputs": [],
   "source": [
    "X_train_terpilih = X_train_final[['distance_scaled','surge_multiplier_scaled','destination_enc','cab_type_enc','name_enc']]\n",
    "X_test_terpilih = X_test_final[['distance_scaled','surge_multiplier_scaled','destination_enc','cab_type_enc','name_enc']]"
   ]
  },
  {
   "attachments": {},
   "cell_type": "markdown",
   "metadata": {},
   "source": [
    "# **Model Definition**"
   ]
  },
  {
   "attachments": {},
   "cell_type": "markdown",
   "metadata": {},
   "source": [
    "Definisi Linear Regression : Linear Regression adalah algoritma untuk masalah regresi yang dapat menjelaskan hubungan antara satu variabel dependen (target) dan satu atau lebih variabel independen (fitur) dengan memfittingkan persamaan linear ke data yang diamati. Target harus dalam bentuk kontinu di mana pada kasus ini yaitu price, dan masalah yang dibahas adalah seperti memprediksi harga perjalanan uber. Saya menggunakan metrik evaluasi Mean Squared Error (MSE) untuk mengukur seberapa baik model memprediksi nilai target dikarenakan tidak ada outlier dan memiliki fokus terkait error yang kecil karena memprediksi harga."
   ]
  },
  {
   "attachments": {},
   "cell_type": "markdown",
   "metadata": {},
   "source": [
    "# **Model Training**"
   ]
  },
  {
   "cell_type": "code",
   "execution_count": 510,
   "metadata": {},
   "outputs": [
    {
     "data": {
      "text/html": [
       "<style>#sk-container-id-1 {color: black;background-color: white;}#sk-container-id-1 pre{padding: 0;}#sk-container-id-1 div.sk-toggleable {background-color: white;}#sk-container-id-1 label.sk-toggleable__label {cursor: pointer;display: block;width: 100%;margin-bottom: 0;padding: 0.3em;box-sizing: border-box;text-align: center;}#sk-container-id-1 label.sk-toggleable__label-arrow:before {content: \"▸\";float: left;margin-right: 0.25em;color: #696969;}#sk-container-id-1 label.sk-toggleable__label-arrow:hover:before {color: black;}#sk-container-id-1 div.sk-estimator:hover label.sk-toggleable__label-arrow:before {color: black;}#sk-container-id-1 div.sk-toggleable__content {max-height: 0;max-width: 0;overflow: hidden;text-align: left;background-color: #f0f8ff;}#sk-container-id-1 div.sk-toggleable__content pre {margin: 0.2em;color: black;border-radius: 0.25em;background-color: #f0f8ff;}#sk-container-id-1 input.sk-toggleable__control:checked~div.sk-toggleable__content {max-height: 200px;max-width: 100%;overflow: auto;}#sk-container-id-1 input.sk-toggleable__control:checked~label.sk-toggleable__label-arrow:before {content: \"▾\";}#sk-container-id-1 div.sk-estimator input.sk-toggleable__control:checked~label.sk-toggleable__label {background-color: #d4ebff;}#sk-container-id-1 div.sk-label input.sk-toggleable__control:checked~label.sk-toggleable__label {background-color: #d4ebff;}#sk-container-id-1 input.sk-hidden--visually {border: 0;clip: rect(1px 1px 1px 1px);clip: rect(1px, 1px, 1px, 1px);height: 1px;margin: -1px;overflow: hidden;padding: 0;position: absolute;width: 1px;}#sk-container-id-1 div.sk-estimator {font-family: monospace;background-color: #f0f8ff;border: 1px dotted black;border-radius: 0.25em;box-sizing: border-box;margin-bottom: 0.5em;}#sk-container-id-1 div.sk-estimator:hover {background-color: #d4ebff;}#sk-container-id-1 div.sk-parallel-item::after {content: \"\";width: 100%;border-bottom: 1px solid gray;flex-grow: 1;}#sk-container-id-1 div.sk-label:hover label.sk-toggleable__label {background-color: #d4ebff;}#sk-container-id-1 div.sk-serial::before {content: \"\";position: absolute;border-left: 1px solid gray;box-sizing: border-box;top: 0;bottom: 0;left: 50%;z-index: 0;}#sk-container-id-1 div.sk-serial {display: flex;flex-direction: column;align-items: center;background-color: white;padding-right: 0.2em;padding-left: 0.2em;position: relative;}#sk-container-id-1 div.sk-item {position: relative;z-index: 1;}#sk-container-id-1 div.sk-parallel {display: flex;align-items: stretch;justify-content: center;background-color: white;position: relative;}#sk-container-id-1 div.sk-item::before, #sk-container-id-1 div.sk-parallel-item::before {content: \"\";position: absolute;border-left: 1px solid gray;box-sizing: border-box;top: 0;bottom: 0;left: 50%;z-index: -1;}#sk-container-id-1 div.sk-parallel-item {display: flex;flex-direction: column;z-index: 1;position: relative;background-color: white;}#sk-container-id-1 div.sk-parallel-item:first-child::after {align-self: flex-end;width: 50%;}#sk-container-id-1 div.sk-parallel-item:last-child::after {align-self: flex-start;width: 50%;}#sk-container-id-1 div.sk-parallel-item:only-child::after {width: 0;}#sk-container-id-1 div.sk-dashed-wrapped {border: 1px dashed gray;margin: 0 0.4em 0.5em 0.4em;box-sizing: border-box;padding-bottom: 0.4em;background-color: white;}#sk-container-id-1 div.sk-label label {font-family: monospace;font-weight: bold;display: inline-block;line-height: 1.2em;}#sk-container-id-1 div.sk-label-container {text-align: center;}#sk-container-id-1 div.sk-container {/* jupyter's `normalize.less` sets `[hidden] { display: none; }` but bootstrap.min.css set `[hidden] { display: none !important; }` so we also need the `!important` here to be able to override the default hidden behavior on the sphinx rendered scikit-learn.org. See: https://github.com/scikit-learn/scikit-learn/issues/21755 */display: inline-block !important;position: relative;}#sk-container-id-1 div.sk-text-repr-fallback {display: none;}</style><div id=\"sk-container-id-1\" class=\"sk-top-container\"><div class=\"sk-text-repr-fallback\"><pre>LinearRegression()</pre><b>In a Jupyter environment, please rerun this cell to show the HTML representation or trust the notebook. <br />On GitHub, the HTML representation is unable to render, please try loading this page with nbviewer.org.</b></div><div class=\"sk-container\" hidden><div class=\"sk-item\"><div class=\"sk-estimator sk-toggleable\"><input class=\"sk-toggleable__control sk-hidden--visually\" id=\"sk-estimator-id-1\" type=\"checkbox\" checked><label for=\"sk-estimator-id-1\" class=\"sk-toggleable__label sk-toggleable__label-arrow\">LinearRegression</label><div class=\"sk-toggleable__content\"><pre>LinearRegression()</pre></div></div></div></div></div>"
      ],
      "text/plain": [
       "LinearRegression()"
      ]
     },
     "execution_count": 510,
     "metadata": {},
     "output_type": "execute_result"
    }
   ],
   "source": [
    "linreg = LinearRegression()\n",
    "\n",
    "linreg.fit(X_train_terpilih, y_train_HO)"
   ]
  },
  {
   "cell_type": "code",
   "execution_count": 511,
   "metadata": {},
   "outputs": [
    {
     "name": "stdout",
     "output_type": "stream",
     "text": [
      "MSE - Train Set :  38.82849700748308\n",
      "MSE - Test Set  :  38.85471254475726\n"
     ]
    }
   ],
   "source": [
    "y_pred_train = linreg.predict(X_train_terpilih)\n",
    "y_pred_test = linreg.predict(X_test_terpilih)\n",
    "\n",
    "print('MSE - Train Set : ', mean_squared_error(y_train_HO, y_pred_train))\n",
    "print('MSE - Test Set  : ', mean_squared_error(y_test_HO, y_pred_test))"
   ]
  },
  {
   "attachments": {},
   "cell_type": "markdown",
   "metadata": {},
   "source": [
    "Nilai MSE sangat tinggi sehingga dapat dikatakan model yang dihasilkan kurang baik atau akurat"
   ]
  },
  {
   "cell_type": "code",
   "execution_count": 516,
   "metadata": {},
   "outputs": [
    {
     "name": "stdout",
     "output_type": "stream",
     "text": [
      "Slope (Koefisien): [ 2.95321106e+00 -5.99173489e-15  1.65324963e-02  2.36173804e+00\n",
      " -1.60428989e+00]\n",
      "Intercept: 23.657213456694386\n"
     ]
    }
   ],
   "source": [
    "# Mendapatkan nilai slope (koefisien) dari linreg\n",
    "slope = linreg.coef_\n",
    "\n",
    "# Mendapatkan nilai intercept dari linreg\n",
    "intercept = linreg.intercept_\n",
    "\n",
    "print(\"Slope (Koefisien):\", slope)\n",
    "print(\"Intercept:\", intercept)"
   ]
  },
  {
   "attachments": {},
   "cell_type": "markdown",
   "metadata": {},
   "source": [
    "1. Untuk fitur pertama, kemiringannya adalah sekitar 2.95321106.\n",
    "2. Untuk fitur kedua, koefisiennya mendekati nol (-5.99173489e-15).\n",
    "3. Untuk fitur ketiga, kemiringannya adalah sekitar 0.0165324963.\n",
    "4. Untuk fitur keempat, kemiringannya adalah sekitar 2.36173804.\n",
    "5. Untuk fitur kelima, kemiringannya adalah sekitar -1.60428989."
   ]
  },
  {
   "attachments": {},
   "cell_type": "markdown",
   "metadata": {},
   "source": [
    "# **Model Saving**"
   ]
  },
  {
   "cell_type": "code",
   "execution_count": 518,
   "metadata": {},
   "outputs": [],
   "source": [
    "with open('model_linreg.pkl', 'wb') as file1 :\n",
    "    joblib.dump(linreg, file1)\n",
    "    \n",
    "with open('ordinal_encoder.pkl', 'wb') as file2 :\n",
    "    joblib.dump(ordinal_encoder, file2)\n",
    "    \n",
    "with open('scaler.pkl', 'wb') as file3 :\n",
    "    joblib.dump(scaler, file3)"
   ]
  },
  {
   "attachments": {},
   "cell_type": "markdown",
   "metadata": {},
   "source": [
    "# **Model Inference**"
   ]
  },
  {
   "cell_type": "code",
   "execution_count": 530,
   "metadata": {},
   "outputs": [],
   "source": [
    "data_inf = {\n",
    "    'distance' : [8.2],\n",
    "    'surge_multiplier' : [2],\n",
    "    'destination' : [\"North Station\"],\n",
    "    'cab_type' : [\"Uber\"],\n",
    "    'name' : ['UberXL'],\n",
    "}\n",
    "\n",
    "df_inf = pd.DataFrame(data_inf)"
   ]
  },
  {
   "cell_type": "code",
   "execution_count": null,
   "metadata": {},
   "outputs": [],
   "source": [
    "df_inf[list_ord] = ordinal_enc.transform(df_inf[['smoker','sex']])"
   ]
  }
 ],
 "metadata": {
  "kernelspec": {
   "display_name": "Python 3",
   "language": "python",
   "name": "python3"
  },
  "language_info": {
   "codemirror_mode": {
    "name": "ipython",
    "version": 3
   },
   "file_extension": ".py",
   "mimetype": "text/x-python",
   "name": "python",
   "nbconvert_exporter": "python",
   "pygments_lexer": "ipython3",
   "version": "3.10.0 (tags/v3.10.0:b494f59, Oct  4 2021, 19:00:18) [MSC v.1929 64 bit (AMD64)]"
  },
  "orig_nbformat": 4,
  "vscode": {
   "interpreter": {
    "hash": "3196968d684371006099b3d55edeef8ed90365227a30deaef86e5d4aa8519be0"
   }
  }
 },
 "nbformat": 4,
 "nbformat_minor": 2
}
